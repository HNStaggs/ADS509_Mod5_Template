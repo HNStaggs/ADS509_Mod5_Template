{
 "cells": [
  {
   "attachments": {},
   "cell_type": "markdown",
   "id": "bce2bb89",
   "metadata": {},
   "source": [
    "# ADS 509 Assignment 5.1: Topic Modeling\n",
    "## Halee Staggs\n",
    "### ChatGPT4.o was used as a tool for this assignment. All code was verified for accuracy. \n",
    "### The code repository for this course's text book was also used as a resource for the training and data visualization of the SVD and LDA models: https://github.com/blueprints-for-text-analytics-python/blueprints-text/blob/master/ch08/Topic_Modeling_Clustering.ipynb "
   ]
  },
  {
   "cell_type": "code",
   "execution_count": 11,
   "id": "f7a4afd4-ecbb-4a27-9afd-f1c45ecf30d2",
   "metadata": {},
   "outputs": [],
   "source": [
    "#!pip install pyLDAvis==3.4.1\n",
    "#!pip install spacy\n",
    "#!python -m spacy download en_core_web_sm"
   ]
  },
  {
   "cell_type": "code",
   "execution_count": 14,
   "id": "a85bce08",
   "metadata": {},
   "outputs": [
    {
     "name": "stderr",
     "output_type": "stream",
     "text": [
      "[nltk_data] Downloading package brown to\n",
      "[nltk_data]     C:\\Users\\halee\\AppData\\Roaming\\nltk_data...\n",
      "[nltk_data]   Unzipping corpora\\brown.zip.\n"
     ]
    }
   ],
   "source": [
    "import nltk\n",
    "nltk.download('brown')\n",
    "\n",
    "import numpy as np\n",
    "import pandas as pd\n",
    "from tqdm.auto import tqdm\n",
    "\n",
    "import pyLDAvis\n",
    "import pyLDAvis.lda_model\n",
    "import pyLDAvis.gensim_models\n",
    "\n",
    "import spacy\n",
    "from sklearn.feature_extraction.text import TfidfVectorizer, CountVectorizer\n",
    "from sklearn.decomposition import NMF, TruncatedSVD, LatentDirichletAllocation\n",
    "\n",
    "from spacy.lang.en.stop_words import STOP_WORDS as stopwords\n",
    "import en_core_web_sm\n",
    "\n",
    "from collections import Counter, defaultdict\n",
    "\n",
    "nlp = en_core_web_sm.load()"
   ]
  },
  {
   "cell_type": "code",
   "execution_count": 15,
   "id": "494de237",
   "metadata": {},
   "outputs": [],
   "source": [
    "# This function comes from the BTAP repo.\n",
    "def display_topics(model, features, no_top_words=5):\n",
    "    for topic, words in enumerate(model.components_):\n",
    "        total = words.sum()\n",
    "        largest = words.argsort()[::-1] # invert sort order\n",
    "        print(\"\\nTopic %02d\" % topic)\n",
    "        for i in range(0, no_top_words):\n",
    "            print(\"  %s (%2.2f)\" % (features[largest[i]], abs(words[largest[i]]*100.0/total)))"
   ]
  },
  {
   "attachments": {},
   "cell_type": "markdown",
   "id": "a30a901c",
   "metadata": {},
   "source": [
    "## Getting to Know the Brown Corpus\n",
    "\n",
    "Let's spend a bit of time getting to know what's in the Brown corpus, our NLTK example of an \"overlapping\" corpus."
   ]
  },
  {
   "cell_type": "code",
   "execution_count": 16,
   "id": "457c59ed",
   "metadata": {},
   "outputs": [
    {
     "name": "stdout",
     "output_type": "stream",
     "text": [
      "For adventure we have 29 articles.\n",
      "For belles_lettres we have 75 articles.\n",
      "For editorial we have 27 articles.\n",
      "For fiction we have 29 articles.\n",
      "For government we have 30 articles.\n",
      "For hobbies we have 36 articles.\n",
      "For humor we have 9 articles.\n",
      "For learned we have 80 articles.\n",
      "For lore we have 48 articles.\n",
      "For mystery we have 24 articles.\n",
      "For news we have 44 articles.\n",
      "For religion we have 17 articles.\n",
      "For reviews we have 17 articles.\n",
      "For romance we have 29 articles.\n",
      "For science_fiction we have 6 articles.\n"
     ]
    }
   ],
   "source": [
    "# categories of articles in Brown corpus\n",
    "for category in brown.categories() :\n",
    "    print(f\"For {category} we have {len(brown.fileids(categories=category))} articles.\")"
   ]
  },
  {
   "attachments": {},
   "cell_type": "markdown",
   "id": "23fb133c",
   "metadata": {},
   "source": [
    "Let's create a dataframe of the articles in of hobbies, editorial, government, news, and romance."
   ]
  },
  {
   "cell_type": "code",
   "execution_count": 17,
   "id": "18f50b9d",
   "metadata": {},
   "outputs": [
    {
     "data": {
      "text/plain": [
       "(166, 3)"
      ]
     },
     "execution_count": 17,
     "metadata": {},
     "output_type": "execute_result"
    }
   ],
   "source": [
    "categories = ['editorial','government','news','romance','hobbies'] \n",
    "\n",
    "category_list = []\n",
    "file_ids = []\n",
    "texts = []\n",
    "\n",
    "for category in categories : \n",
    "    for file_id in brown.fileids(categories=category) :\n",
    "        \n",
    "        # build some lists for a dataframe\n",
    "        category_list.append(category)\n",
    "        file_ids.append(file_id)\n",
    "        \n",
    "        text = brown.words(fileids=file_id)\n",
    "        texts.append(\" \".join(text))\n",
    "\n",
    "        \n",
    "        \n",
    "df = pd.DataFrame()\n",
    "df['category'] = category_list\n",
    "df['id'] = file_ids\n",
    "df['text'] = texts \n",
    "\n",
    "df.shape"
   ]
  },
  {
   "cell_type": "code",
   "execution_count": 18,
   "id": "586f47de",
   "metadata": {},
   "outputs": [],
   "source": [
    "# Let's add some helpful columns on the df\n",
    "df['char_len'] = df['text'].apply(len)\n",
    "df['word_len'] = df['text'].apply(lambda x: len(x.split()))\n"
   ]
  },
  {
   "cell_type": "code",
   "execution_count": 19,
   "id": "2128fd2d",
   "metadata": {},
   "outputs": [
    {
     "data": {
      "text/plain": [
       "<Axes: xlabel='category'>"
      ]
     },
     "execution_count": 19,
     "metadata": {},
     "output_type": "execute_result"
    },
    {
     "data": {
      "image/png": "[encoded data removed]",
      "text/plain": [
       "<Figure size 1000x600 with 1 Axes>"
      ]
     },
     "metadata": {},
     "output_type": "display_data"
    }
   ],
   "source": [
    "%matplotlib inline\n",
    "df.groupby('category').agg({'word_len': 'mean'}).plot.bar(figsize=(10,6))"
   ]
  },
  {
   "attachments": {},
   "cell_type": "markdown",
   "id": "554ffeb5",
   "metadata": {},
   "source": [
    "Now do our TF-IDF and Count vectorizations."
   ]
  },
  {
   "cell_type": "code",
   "execution_count": 20,
   "id": "21a7d247",
   "metadata": {},
   "outputs": [
    {
     "name": "stderr",
     "output_type": "stream",
     "text": [
      "C:\\Users\\halee\\anaconda3\\lib\\site-packages\\sklearn\\feature_extraction\\text.py:408: UserWarning: Your stop_words may be inconsistent with your preprocessing. Tokenizing the stop words generated tokens ['ll', 've'] not in stop_words.\n",
      "  warnings.warn(\n"
     ]
    },
    {
     "data": {
      "text/plain": [
       "(166, 4941)"
      ]
     },
     "execution_count": 20,
     "metadata": {},
     "output_type": "execute_result"
    }
   ],
   "source": [
    "count_text_vectorizer = CountVectorizer(stop_words=list(stopwords), min_df=5, max_df=0.7)\n",
    "count_text_vectors = count_text_vectorizer.fit_transform(df[\"text\"])\n",
    "count_text_vectors.shape"
   ]
  },
  {
   "cell_type": "code",
   "execution_count": 30,
   "id": "bbe3de4f-ff7c-4cc9-ba1d-2d53fc3e1fc1",
   "metadata": {},
   "outputs": [
    {
     "name": "stdout",
     "output_type": "stream",
     "text": [
      "  (0, 381)\t4\n",
      "  (0, 3967)\t3\n",
      "  (0, 643)\t1\n",
      "  (0, 2030)\t9\n",
      "  (0, 1987)\t3\n",
      "  (0, 4546)\t1\n",
      "  (0, 3206)\t1\n",
      "  (0, 403)\t1\n",
      "  (0, 1151)\t4\n",
      "  (0, 4301)\t1\n",
      "  (0, 1207)\t3\n",
      "  (0, 1718)\t1\n",
      "  (0, 2274)\t1\n",
      "  (0, 3893)\t2\n",
      "  (0, 2420)\t3\n",
      "  (0, 2804)\t1\n",
      "  (0, 2042)\t1\n",
      "  (0, 1231)\t2\n",
      "  (0, 3795)\t1\n",
      "  (0, 3491)\t6\n",
      "  (0, 1494)\t1\n",
      "  (0, 1874)\t2\n",
      "  (0, 2193)\t1\n",
      "  (0, 329)\t2\n",
      "  (0, 648)\t6\n",
      "  :\t:\n",
      "  (0, 696)\t1\n",
      "  (0, 4602)\t1\n",
      "  (0, 212)\t2\n",
      "  (0, 3272)\t2\n",
      "  (0, 1701)\t2\n",
      "  (0, 1114)\t1\n",
      "  (0, 174)\t1\n",
      "  (0, 3927)\t1\n",
      "  (0, 4364)\t2\n",
      "  (0, 3448)\t1\n",
      "  (0, 4134)\t1\n",
      "  (0, 1340)\t1\n",
      "  (0, 3370)\t1\n",
      "  (0, 425)\t1\n",
      "  (0, 905)\t1\n",
      "  (0, 4260)\t1\n",
      "  (0, 2517)\t1\n",
      "  (0, 665)\t1\n",
      "  (0, 4229)\t1\n",
      "  (0, 3139)\t1\n",
      "  (0, 2929)\t1\n",
      "  (0, 194)\t1\n",
      "  (0, 3926)\t1\n",
      "  (0, 3510)\t1\n",
      "  (0, 3368)\t1\n"
     ]
    }
   ],
   "source": [
    "print(count_text_vectors[0])"
   ]
  },
  {
   "cell_type": "code",
   "execution_count": 21,
   "id": "875deba9",
   "metadata": {},
   "outputs": [
    {
     "name": "stderr",
     "output_type": "stream",
     "text": [
      "C:\\Users\\halee\\anaconda3\\lib\\site-packages\\sklearn\\feature_extraction\\text.py:408: UserWarning: Your stop_words may be inconsistent with your preprocessing. Tokenizing the stop words generated tokens ['ll', 've'] not in stop_words.\n",
      "  warnings.warn(\n"
     ]
    },
    {
     "data": {
      "text/plain": [
       "(166, 4941)"
      ]
     },
     "execution_count": 21,
     "metadata": {},
     "output_type": "execute_result"
    }
   ],
   "source": [
    "tfidf_text_vectorizer = TfidfVectorizer(stop_words=list(stopwords), min_df=5, max_df=0.7)\n",
    "tfidf_text_vectors = tfidf_text_vectorizer.fit_transform(df['text'])\n",
    "tfidf_text_vectors.shape"
   ]
  },
  {
   "cell_type": "code",
   "execution_count": 29,
   "id": "dfe2ce93-774a-46f1-9089-089e8cfb1470",
   "metadata": {},
   "outputs": [
    {
     "name": "stdout",
     "output_type": "stream",
     "text": [
      "  (0, 3368)\t0.014202153371640824\n",
      "  (0, 3510)\t0.020879332532565246\n",
      "  (0, 3926)\t0.022325916789103336\n",
      "  (0, 194)\t0.031314681027674846\n",
      "  (0, 2929)\t0.027650303215677303\n",
      "  (0, 3139)\t0.033003867148170336\n",
      "  (0, 4229)\t0.030582245182981187\n",
      "  (0, 665)\t0.032116973721665935\n",
      "  (0, 2517)\t0.020036859800329522\n",
      "  (0, 4260)\t0.020660678627945756\n",
      "  (0, 905)\t0.019271086478280658\n",
      "  (0, 425)\t0.030582245182981187\n",
      "  (0, 3370)\t0.024747538754292486\n",
      "  (0, 1340)\t0.020036859800329522\n",
      "  (0, 4134)\t0.019090053650940745\n",
      "  (0, 3448)\t0.026714038961253943\n",
      "  (0, 4364)\t0.03713840987894748\n",
      "  (0, 3927)\t0.028703889258166387\n",
      "  (0, 174)\t0.032116973721665935\n",
      "  (0, 1114)\t0.02286918282947769\n",
      "  (0, 1701)\t0.06423394744333187\n",
      "  (0, 3272)\t0.03891219673195628\n",
      "  (0, 212)\t0.04949507750858497\n",
      "  (0, 4602)\t0.026282267292977238\n",
      "  (0, 696)\t0.025479974598986144\n",
      "  :\t:\n",
      "  (0, 648)\t0.1484852325257549\n",
      "  (0, 329)\t0.06799065929296147\n",
      "  (0, 2193)\t0.033995329646480735\n",
      "  (0, 1874)\t0.043631193573977205\n",
      "  (0, 1494)\t0.021815596786988602\n",
      "  (0, 3491)\t0.08642999628287386\n",
      "  (0, 3795)\t0.028703889258166387\n",
      "  (0, 1231)\t0.05021158581393871\n",
      "  (0, 2042)\t0.02716916071948164\n",
      "  (0, 2804)\t0.022066890135486593\n",
      "  (0, 2420)\t0.06400336287237882\n",
      "  (0, 3893)\t0.043631193573977205\n",
      "  (0, 2274)\t0.024073763091445304\n",
      "  (0, 1718)\t0.026282267292977238\n",
      "  (0, 1207)\t0.03511712068720655\n",
      "  (0, 4301)\t0.028703889258166387\n",
      "  (0, 1151)\t0.11963387808053601\n",
      "  (0, 403)\t0.02716916071948164\n",
      "  (0, 3206)\t0.033995329646480735\n",
      "  (0, 4546)\t0.015499747862104243\n",
      "  (0, 1987)\t0.04172029529292066\n",
      "  (0, 2030)\t0.10535136206161966\n",
      "  (0, 643)\t0.017921369827293396\n",
      "  (0, 3967)\t0.06946366796948537\n",
      "  (0, 381)\t0.10191989839594458\n"
     ]
    }
   ],
   "source": [
    "print(tfidf_text_vectors[0])"
   ]
  },
  {
   "attachments": {},
   "cell_type": "markdown",
   "id": "a1062b21",
   "metadata": {},
   "source": [
    "Q: What do the two data frames `count_text_vectors` and `tfidf_text_vectors` hold? \n",
    "\n",
    "A: count_text_vectors include the word frequency for each word contained in each row of text data. tfidf_text_vectors includes the tf_idf values for each word contained in each row of text data."
   ]
  },
  {
   "attachments": {},
   "cell_type": "markdown",
   "id": "f77c3f94",
   "metadata": {},
   "source": [
    "## Fitting a Non-Negative Matrix Factorization Model\n",
    "\n",
    "In this section the code to fit a five-topic NMF model has already been written. This code comes directly from the [BTAP repo](https://github.com/blueprints-for-text-analytics-python/blueprints-text), which will help you tremendously in the coming sections. "
   ]
  },
  {
   "cell_type": "code",
   "execution_count": 31,
   "id": "d28745a3",
   "metadata": {},
   "outputs": [],
   "source": [
    "nmf_text_model = NMF(n_components=5, random_state=314)\n",
    "W_text_matrix = nmf_text_model.fit_transform(tfidf_text_vectors)\n",
    "H_text_matrix = nmf_text_model.components_"
   ]
  },
  {
   "cell_type": "code",
   "execution_count": 32,
   "id": "a67185e7",
   "metadata": {},
   "outputs": [
    {
     "name": "stdout",
     "output_type": "stream",
     "text": [
      "\n",
      "Topic 00\n",
      "  mr (0.51)\n",
      "  president (0.45)\n",
      "  kennedy (0.43)\n",
      "  united (0.42)\n",
      "  khrushchev (0.40)\n",
      "\n",
      "Topic 01\n",
      "  said (0.88)\n",
      "  didn (0.46)\n",
      "  ll (0.45)\n",
      "  thought (0.42)\n",
      "  man (0.37)\n",
      "\n",
      "Topic 02\n",
      "  state (0.39)\n",
      "  development (0.36)\n",
      "  tax (0.33)\n",
      "  sales (0.30)\n",
      "  program (0.25)\n",
      "\n",
      "Topic 03\n",
      "  mrs (2.61)\n",
      "  mr (0.78)\n",
      "  said (0.63)\n",
      "  miss (0.52)\n",
      "  car (0.51)\n",
      "\n",
      "Topic 04\n",
      "  game (1.02)\n",
      "  league (0.74)\n",
      "  ball (0.72)\n",
      "  baseball (0.71)\n",
      "  team (0.66)\n"
     ]
    }
   ],
   "source": [
    "display_topics(nmf_text_model, tfidf_text_vectorizer.get_feature_names_out())"
   ]
  },
  {
   "attachments": {},
   "cell_type": "markdown",
   "id": "fee51e9b",
   "metadata": {},
   "source": [
    "Now some work for you to do. Compare the NMF categorization to the original categories from the Brown Corpus.\n",
    "\n",
    "We are interested in the extent to which our NMF categorization agrees or disagrees with the original categories in the corpus. For each topic in your NMF model, tally the Brown categories and interpret the results. "
   ]
  },
  {
   "cell_type": "code",
   "execution_count": 38,
   "id": "a40ef631-358b-444a-92a4-814545fac74b",
   "metadata": {},
   "outputs": [
    {
     "name": "stdout",
     "output_type": "stream",
     "text": [
      "Topic 00\n",
      "  editorial (20)\n",
      "  government (4)\n",
      "  news (8)\n",
      "\n",
      "Topic 01\n",
      "  editorial (4)\n",
      "  romance (29)\n",
      "  hobbies (8)\n",
      "\n",
      "Topic 02\n",
      "  editorial (2)\n",
      "  government (26)\n",
      "  news (11)\n",
      "  hobbies (26)\n",
      "\n",
      "Topic 03\n",
      "  news (17)\n",
      "  hobbies (1)\n",
      "\n",
      "Topic 04\n",
      "  editorial (1)\n",
      "  news (8)\n",
      "  hobbies (1)\n",
      "\n",
      "Topic 00\n",
      "mr president kennedy united khrushchev berlin\n",
      "  editorial: 20\n",
      "  government: 4\n",
      "  news: 8\n",
      "\n",
      "Topic 01\n",
      "said didn ll thought man don\n",
      "  editorial: 4\n",
      "  romance: 29\n",
      "  hobbies: 8\n",
      "\n",
      "Topic 02\n",
      "state development tax sales program 1960\n",
      "  editorial: 2\n",
      "  government: 26\n",
      "  news: 11\n",
      "  hobbies: 26\n",
      "\n",
      "Topic 03\n",
      "mrs mr said miss car jr\n",
      "  news: 17\n",
      "  hobbies: 1\n",
      "\n",
      "Topic 04\n",
      "game league ball baseball team runs\n",
      "  editorial: 1\n",
      "  news: 8\n",
      "  hobbies: 1\n",
      "\n"
     ]
    }
   ],
   "source": [
    "# Assign each document to the most relevant topic\n",
    "df[\"topic\"] = np.argmax(W_text_matrix, axis=1)\n",
    "\n",
    "# Tally the Brown categories for each topic\n",
    "n_topics = 5\n",
    "tally_results = {}\n",
    "for topic in range(n_topics):\n",
    "    topic_docs = df[df[\"topic\"] == topic][\"category\"]\n",
    "    tally_results[topic] = Counter(topic_docs)\n",
    "\n",
    "# Display the tally results\n",
    "for topic, tally in tally_results.items():\n",
    "    print(f\"Topic {topic:02d}\")\n",
    "    for category, count in tally.items():\n",
    "        print(f\"  {category} ({count})\")\n",
    "    print()\n",
    "\n",
    "# Interpret the results by comparing the original categories with NMF topics\n",
    "for topic_idx, topic in enumerate(H_text_matrix):\n",
    "    print(f\"Topic {topic_idx:02d}\")\n",
    "    print(\" \".join([tfidf_text_vectorizer.get_feature_names_out()[i] for i in topic.argsort()[:-6 - 1:-1]]))\n",
    "    for category, count in tally_results[topic_idx].items():\n",
    "        print(f\"  {category}: {count}\")\n",
    "    print()"
   ]
  },
  {
   "attachments": {},
   "cell_type": "markdown",
   "id": "f8d4e2bc",
   "metadata": {},
   "source": [
    "Q: How does your five-topic NMF model compare to the original Brown categories? \n",
    "\n",
    "A: The model has some interpretable information, but it does show a lot of overlap between topics based on language, and some topics don't make sense based on the input categories. Topic00 makes sense because president's names will be dispersed across editorials, government, and news. Topic01 is primarily based on romance, but the primary words making up the topic do not provide interpretable information. Topic02 has 26 hobbies documents that it used which does not really make sense since the language primarly involves government terms. Topic03 uses primarily name titles from news sources, which shows that news sources are using more formal language, but does not imply the subject matter of the news. Topic04 is about sports, and is the most interpretable since it comes mostly from news. "
   ]
  },
  {
   "attachments": {},
   "cell_type": "markdown",
   "id": "82e37cb5",
   "metadata": {},
   "source": [
    "## Fitting an LSA Model\n",
    "\n",
    "In this section, follow the example from the repository and fit an LSA model (called a \"TruncatedSVD\" in `sklearn`). Again fit a five-topic model and compare it to the actual categories in the Brown corpus. Use the TF-IDF vectors for your fit, as above. \n",
    "\n",
    "To be explicit, we are once again interested in the extent to which this LSA factorization agrees or disagrees with the original categories in the corpus. For each topic in your model, tally the Brown categories and interpret the results. \n"
   ]
  },
  {
   "cell_type": "code",
   "execution_count": 39,
   "id": "00b53d3d",
   "metadata": {},
   "outputs": [],
   "source": [
    "svd_para_model = TruncatedSVD(n_components = 5, random_state=42)\n",
    "W_svd_para_matrix = svd_para_model.fit_transform(tfidf_text_vectors)\n",
    "H_svd_para_matrix = svd_para_model.components_"
   ]
  },
  {
   "cell_type": "code",
   "execution_count": 43,
   "id": "8d8c59a3-f7f3-47f1-95bf-f9f12e5398cd",
   "metadata": {},
   "outputs": [
    {
     "data": {
      "text/plain": [
       "array([3.70145447, 2.25514643, 1.69735202, 1.66198175, 1.55995291])"
      ]
     },
     "execution_count": 43,
     "metadata": {},
     "output_type": "execute_result"
    }
   ],
   "source": [
    "svd_para_model.singular_values_"
   ]
  },
  {
   "cell_type": "code",
   "execution_count": 44,
   "id": "ced91bbc-7002-417b-ad60-539ff54cd23b",
   "metadata": {},
   "outputs": [
    {
     "name": "stdout",
     "output_type": "stream",
     "text": [
      "Topic 00\n",
      "  editorial (27)\n",
      "  government (30)\n",
      "  news (34)\n",
      "  romance (21)\n",
      "  hobbies (36)\n",
      "\n",
      "Topic 01\n",
      "  romance (8)\n",
      "\n",
      "Topic 02\n",
      "\n",
      "Topic 03\n",
      "  news (3)\n",
      "\n",
      "Topic 04\n",
      "  news (7)\n",
      "\n",
      "Topic 00\n",
      "said mr mrs state man president\n",
      "  editorial: 27\n",
      "  government: 30\n",
      "  news: 34\n",
      "  romance: 21\n",
      "  hobbies: 36\n",
      "\n",
      "Topic 01\n",
      "said ll didn thought got mrs\n",
      "  romance: 8\n",
      "\n",
      "Topic 02\n",
      "mrs mr said kennedy president laos\n",
      "\n",
      "Topic 03\n",
      "mrs club game jr dallas home\n",
      "  news: 3\n",
      "\n",
      "Topic 04\n",
      "game league baseball ball team runs\n",
      "  news: 7\n",
      "\n"
     ]
    }
   ],
   "source": [
    "# Assign each document to the most relevant topic\n",
    "df[\"topic_svd\"] = np.argmax(W_svd_para_matrix, axis=1)\n",
    "\n",
    "# Tally the Brown categories for each topic\n",
    "n_topics = 5\n",
    "tally_results = {}\n",
    "for topic in range(n_topics):\n",
    "    topic_docs = df[df[\"topic_svd\"] == topic][\"category\"]\n",
    "    tally_results[topic] = Counter(topic_docs)\n",
    "\n",
    "# Display the tally results\n",
    "for topic, tally in tally_results.items():\n",
    "    print(f\"Topic {topic:02d}\")\n",
    "    for category, count in tally.items():\n",
    "        print(f\"  {category} ({count})\")\n",
    "    print()\n",
    "\n",
    "# Interpret the results by comparing the original categories with NMF topics\n",
    "for topic_idx, topic in enumerate(H_svd_para_matrix):\n",
    "    print(f\"Topic {topic_idx:02d}\")\n",
    "    print(\" \".join([tfidf_text_vectorizer.get_feature_names_out()[i] for i in topic.argsort()[:-6 - 1:-1]]))\n",
    "    for category, count in tally_results[topic_idx].items():\n",
    "        print(f\"  {category}: {count}\")\n",
    "    print()"
   ]
  },
  {
   "attachments": {},
   "cell_type": "markdown",
   "id": "4d94d56f",
   "metadata": {},
   "source": [
    "Q: How does your five-topic LSA model compare to the original Brown categories? \n",
    "\n",
    "A: This model is giving too much weight to topic00 and does not assign any data to topic02. The language uses to define each topic has a lot of overlap and does not make sense. The only interpretable topic is #4 which has news about sports. "
   ]
  },
  {
   "cell_type": "code",
   "execution_count": 42,
   "id": "e7993b1d-a47c-4816-a4ac-989fae87b7f8",
   "metadata": {},
   "outputs": [
    {
     "name": "stdout",
     "output_type": "stream",
     "text": [
      "\n",
      "Topic 00\n",
      "  said (0.44)\n",
      "  mr (0.25)\n",
      "  mrs (0.22)\n",
      "  state (0.20)\n",
      "  man (0.17)\n",
      "\n",
      "Topic 01\n",
      "  said (3.89)\n",
      "  ll (2.73)\n",
      "  didn (2.63)\n",
      "  thought (2.20)\n",
      "  got (1.97)\n",
      "\n",
      "Topic 02\n",
      "  mrs (3.14)\n",
      "  mr (1.73)\n",
      "  said (1.05)\n",
      "  kennedy (0.81)\n",
      "  president (0.77)\n",
      "\n",
      "Topic 03\n",
      "  mrs (30.38)\n",
      "  club (6.70)\n",
      "  game (6.40)\n",
      "  jr (5.81)\n",
      "  dallas (5.50)\n",
      "\n",
      "Topic 04\n",
      "  game (4.33)\n",
      "  league (3.09)\n",
      "  baseball (3.06)\n",
      "  ball (2.94)\n",
      "  team (2.81)\n"
     ]
    }
   ],
   "source": [
    "display_topics(svd_para_model, tfidf_text_vectorizer.get_feature_names_out())"
   ]
  },
  {
   "attachments": {},
   "cell_type": "markdown",
   "id": "ea8b280a",
   "metadata": {},
   "source": [
    "Q: What is your interpretation of the display topics output? \n",
    "\n",
    "A: Topic00, topic01, topi04 are not well defined since most of the words are contributing a similar amount of information to the topic. Topic03 appears to have a primary topic word, but the word is not indicative of the underlying topic data. Seeing the contribution of each word makes sense given the underlying document sample size in each topic. "
   ]
  },
  {
   "attachments": {},
   "cell_type": "markdown",
   "id": "b4ab4d29",
   "metadata": {},
   "source": [
    "## Fitting an LDA Model\n",
    "\n",
    "Finally, fit a five-topic LDA model using the count vectors (`count_text_vectors` from above). Display the results using `pyLDAvis.display` and describe what you learn from that visualization. "
   ]
  },
  {
   "cell_type": "code",
   "execution_count": 45,
   "id": "802cb8ff",
   "metadata": {},
   "outputs": [
    {
     "name": "stderr",
     "output_type": "stream",
     "text": [
      "C:\\Users\\halee\\anaconda3\\lib\\site-packages\\sklearn\\feature_extraction\\text.py:408: UserWarning: Your stop_words may be inconsistent with your preprocessing. Tokenizing the stop words generated tokens ['ll', 've'] not in stop_words.\n",
      "  warnings.warn(\n"
     ]
    },
    {
     "data": {
      "text/plain": [
       "(166, 4941)"
      ]
     },
     "execution_count": 45,
     "metadata": {},
     "output_type": "execute_result"
    }
   ],
   "source": [
    "# Fit your LDA model here\n",
    "count_para_vectorizer = CountVectorizer(stop_words=list(stopwords), min_df=5, max_df=0.7)\n",
    "count_para_vectors = count_para_vectorizer.fit_transform(df[\"text\"])\n",
    "count_para_vectors.shape"
   ]
  },
  {
   "cell_type": "code",
   "execution_count": 46,
   "id": "5b36ac6b-fb08-477e-a340-c81f8f6e8ffc",
   "metadata": {},
   "outputs": [],
   "source": [
    "lda_para_model = LatentDirichletAllocation(n_components = 5, random_state=42)\n",
    "W_lda_para_matrix = lda_para_model.fit_transform(count_para_vectors)\n",
    "H_lda_para_matrix = lda_para_model.components_"
   ]
  },
  {
   "cell_type": "code",
   "execution_count": 47,
   "id": "ab18adf5",
   "metadata": {},
   "outputs": [
    {
     "name": "stdout",
     "output_type": "stream",
     "text": [
      "\n",
      "Topic 00\n",
      "  home (0.46)\n",
      "  right (0.35)\n",
      "  game (0.35)\n",
      "  way (0.34)\n",
      "  set (0.34)\n",
      "\n",
      "Topic 01\n",
      "  state (0.89)\n",
      "  development (0.57)\n",
      "  states (0.51)\n",
      "  program (0.46)\n",
      "  use (0.44)\n",
      "\n",
      "Topic 02\n",
      "  said (0.93)\n",
      "  mr (0.73)\n",
      "  president (0.63)\n",
      "  state (0.49)\n",
      "  mrs (0.48)\n",
      "\n",
      "Topic 03\n",
      "  feed (0.90)\n",
      "  general (0.73)\n",
      "  business (0.70)\n",
      "  property (0.69)\n",
      "  shall (0.67)\n",
      "\n",
      "Topic 04\n",
      "  said (1.56)\n",
      "  man (0.62)\n",
      "  little (0.62)\n",
      "  old (0.59)\n",
      "  good (0.53)\n"
     ]
    }
   ],
   "source": [
    "# Call `display_topics` on your fitted model here\n",
    "display_topics(lda_para_model, count_para_vectorizer.get_feature_names_out())"
   ]
  },
  {
   "cell_type": "code",
   "execution_count": 48,
   "id": "0c85f448-6ad0-4d98-9e27-8352fe15aa6b",
   "metadata": {},
   "outputs": [
    {
     "name": "stdout",
     "output_type": "stream",
     "text": [
      "Topic 00\n",
      "  editorial (3)\n",
      "  news (9)\n",
      "  hobbies (16)\n",
      "\n",
      "Topic 01\n",
      "  editorial (1)\n",
      "  government (20)\n",
      "  news (3)\n",
      "  hobbies (14)\n",
      "\n",
      "Topic 02\n",
      "  editorial (22)\n",
      "  government (2)\n",
      "  news (31)\n",
      "  hobbies (1)\n",
      "\n",
      "Topic 03\n",
      "  government (8)\n",
      "  news (1)\n",
      "  hobbies (3)\n",
      "\n",
      "Topic 04\n",
      "  editorial (1)\n",
      "  romance (29)\n",
      "  hobbies (2)\n",
      "\n",
      "Topic 00\n",
      "home right game way set place\n",
      "  editorial: 3\n",
      "  news: 9\n",
      "  hobbies: 16\n",
      "\n",
      "Topic 01\n",
      "state development states program use fiscal\n",
      "  editorial: 1\n",
      "  government: 20\n",
      "  news: 3\n",
      "  hobbies: 14\n",
      "\n",
      "Topic 02\n",
      "said mr president state mrs 000\n",
      "  editorial: 22\n",
      "  government: 2\n",
      "  news: 31\n",
      "  hobbies: 1\n",
      "\n",
      "Topic 03\n",
      "feed general business property shall government\n",
      "  government: 8\n",
      "  news: 1\n",
      "  hobbies: 3\n",
      "\n",
      "Topic 04\n",
      "said man little old good know\n",
      "  editorial: 1\n",
      "  romance: 29\n",
      "  hobbies: 2\n",
      "\n"
     ]
    }
   ],
   "source": [
    "# Assign each document to the most relevant topic\n",
    "df[\"topic_lda\"] = np.argmax(W_lda_para_matrix, axis=1)\n",
    "\n",
    "# Tally the Brown categories for each topic\n",
    "n_topics = 5\n",
    "tally_results = {}\n",
    "for topic in range(n_topics):\n",
    "    topic_docs = df[df[\"topic_lda\"] == topic][\"category\"]\n",
    "    tally_results[topic] = Counter(topic_docs)\n",
    "\n",
    "# Display the tally results\n",
    "for topic, tally in tally_results.items():\n",
    "    print(f\"Topic {topic:02d}\")\n",
    "    for category, count in tally.items():\n",
    "        print(f\"  {category} ({count})\")\n",
    "    print()\n",
    "\n",
    "# Interpret the results by comparing the original categories with NMF topics\n",
    "for topic_idx, topic in enumerate(H_lda_para_matrix):\n",
    "    print(f\"Topic {topic_idx:02d}\")\n",
    "    print(\" \".join([count_para_vectorizer.get_feature_names_out()[i] for i in topic.argsort()[:-6 - 1:-1]]))\n",
    "    for category, count in tally_results[topic_idx].items():\n",
    "        print(f\"  {category}: {count}\")\n",
    "    print()"
   ]
  },
  {
   "attachments": {},
   "cell_type": "markdown",
   "id": "f2c67876",
   "metadata": {},
   "source": [
    "Q: What inference do you draw from the displayed topics for your LDA model? \n",
    "\n",
    "A: The topics produced from the LDA model are a lot cleaner than the other methods. There is a nice balance of contribution from each word for the topics. \n",
    "\n",
    "Q: Repeat the tallying of Brown categories within your topics. How does your five-topic LDA model compare to the original Brown categories? \n",
    "\n",
    "A: The topics produced from the LDA model are a lot cleaner than the other methods. The underlying number of topic documents make sense for the given list of words that make up each LDA topic. Topic00 could be hobbies, topic01 could be government/editorial, topc02 could be editorial/news, topic03 is could be government, topic04 could be romance. It appears that editorial has overlap with government and news, but other topics have a more distinguishable language using LDA. "
   ]
  },
  {
   "cell_type": "code",
   "execution_count": 50,
   "id": "6aae75ca",
   "metadata": {},
   "outputs": [],
   "source": [
    "lda_display = pyLDAvis.lda_model.prepare(lda_para_model, count_text_vectors, count_text_vectorizer, sort_topics=False)"
   ]
  },
  {
   "cell_type": "code",
   "execution_count": 51,
   "id": "2a89fc15",
   "metadata": {},
   "outputs": [
    {
     "data": {
      "text/html": [
       "\n",
       "<link rel=\"stylesheet\" type=\"text/css\" href=\"https://cdn.jsdelivr.net/gh/bmabey/pyLDAvis@3.4.0/pyLDAvis/js/ldavis.v1.0.0.css\">\n",
       "\n",
       "\n",
       "<div id=\"ldavis_el4113622110447032486987000051\" style=\"background-color:white;\"></div>\n",
       "<script type=\"text/javascript\">\n",
       "\n",
       "var ldavis_el4113622110447032486987000051_data = {\"mdsDat\": {\"x\": [-0.0890454910340881, 0.12393644925088437, 0.02550016758922577, 0.15979135455242024, -0.22018248035844248], \"y\": [0.1613561745541373, -0.009252658807304446, -0.048092367940466285, -0.016212399453432124, -0.08779874835293444], \"topics\": [1, 2, 3, 4, 5], \"cluster\": [1, 1, 1, 1, 1], \"Freq\": [17.44727507668697, 24.245910725797913, 32.831236255960924, 7.470347983419368, 18.005229958134823]}, \"tinfo\": {\"Term\": [\"said\", \"government\", \"general\", \"feed\", \"business\", \"united\", \"state\", \"states\", \"shall\", \"property\", \"department\", \"development\", \"act\", \"john\", \"didn\", \"tax\", \"ll\", \"thought\", \"mother\", \"president\", \"little\", \"board\", \"small\", \"local\", \"shelter\", \"don\", \"man\", \"old\", \"kennedy\", \"court\", \"player\", \"baseball\", \"panels\", \"leg\", \"yards\", \"yankees\", \"holes\", \"gallery\", \"vernon\", \"coach\", \"charlie\", \"plastic\", \"hits\", \"ball\", \"pittsburgh\", \"favorite\", \"runs\", \"pitcher\", \"hole\", \"pitching\", \"team\", \"paint\", \"stadium\", \"ruth\", \"willie\", \"bat\", \"homer\", \"amateur\", \"paintings\", \"chest\", \"pieces\", \"games\", \"cooling\", \"drill\", \"roy\", \"clay\", \"game\", \"bob\", \"golf\", \"season\", \"inch\", \"football\", \"playing\", \"hit\", \"frame\", \"piece\", \"league\", \"fig\", \"signs\", \"club\", \"cut\", \"junior\", \"play\", \"green\", \"run\", \"center\", \"home\", \"set\", \"won\", \"right\", \"place\", \"don\", \"second\", \"way\", \"house\", \"ll\", \"good\", \"work\", \"class\", \"mrs\", \"use\", \"left\", \"high\", \"better\", \"best\", \"said\", \"textile\", \"participation\", \"employee\", \"musical\", \"publications\", \"faculty\", \"forests\", \"recreation\", \"inventory\", \"interior\", \"fiscal\", \"producers\", \"imports\", \"creative\", \"designers\", \"maintain\", \"evaluation\", \"academic\", \"depreciation\", \"exceed\", \"coverage\", \"laboratories\", \"curriculum\", \"engineers\", \"expenditures\", \"comprehensive\", \"locations\", \"educated\", \"resources\", \"fishing\", \"rhode\", \"organizations\", \"vehicles\", \"india\", \"development\", \"projects\", \"library\", \"activities\", \"technical\", \"pool\", \"planning\", \"published\", \"import\", \"management\", \"site\", \"island\", \"plant\", \"medical\", \"bridge\", \"state\", \"research\", \"program\", \"industrial\", \"1960\", \"available\", \"corps\", \"system\", \"use\", \"production\", \"states\", \"period\", \"services\", \"important\", \"area\", \"interest\", \"national\", \"united\", \"work\", \"000\", \"service\", \"college\", \"water\", \"company\", \"government\", \"american\", \"business\", \"public\", \"high\", \"kennedy\", \"nuclear\", \"soviet\", \"khrushchev\", \"laos\", \"berlin\", \"congo\", \"republican\", \"moscow\", \"cuba\", \"weapons\", \"senate\", \"castro\", \"sen\", \"charter\", \"troops\", \"hughes\", \"premier\", \"communism\", \"democrats\", \"communists\", \"election\", \"aug\", \"welfare\", \"gen\", \"republicans\", \"katanga\", \"bombs\", \"police\", \"communist\", \"democratic\", \"rayburn\", \"georgia\", \"leader\", \"russia\", \"vote\", \"political\", \"jury\", \"president\", \"committee\", \"mr\", \"mayor\", \"county\", \"party\", \"council\", \"war\", \"mrs\", \"city\", \"meeting\", \"said\", \"east\", \"west\", \"yesterday\", \"nations\", \"000\", \"military\", \"administration\", \"school\", \"state\", \"american\", \"government\", \"public\", \"united\", \"people\", \"week\", \"world\", \"house\", \"states\", \"members\", \"john\", \"national\", \"program\", \"man\", \"home\", \"recommendation\", \"motors\", \"thereof\", \"boats\", \"shelter\", \"feed\", \"cattle\", \"interference\", \"chemical\", \"assessment\", \"catastrophe\", \"boat\", \"tangible\", \"engine\", \"stockholders\", \"conversion\", \"electricity\", \"claim\", \"property\", \"stations\", \"ratio\", \"accommodate\", \"farmers\", \"concrete\", \"battery\", \"pound\", \"blocks\", \"claims\", \"manufactured\", \"63\", \"loans\", \"officer\", \"credit\", \"trust\", \"shall\", \"farm\", \"respect\", \"laws\", \"general\", \"act\", \"business\", \"department\", \"stock\", \"hearing\", \"daily\", \"john\", \"small\", \"government\", \"local\", \"class\", \"board\", \"tax\", \"united\", \"court\", \"policy\", \"service\", \"states\", \"report\", \"head\", \"secretary\", \"pale\", \"smiled\", \"hadn\", \"hair\", \"listening\", \"shoes\", \"loved\", \"hell\", \"sick\", \"liked\", \"mother\", \"stared\", \"heel\", \"wondered\", \"smile\", \"tongue\", \"laughed\", \"handsome\", \"silent\", \"looked\", \"strange\", \"lips\", \"till\", \"dad\", \"dear\", \"fountain\", \"puerto\", \"rico\", \"susan\", \"nodded\", \"wasn\", \"couldn\", \"love\", \"sat\", \"didn\", \"eyes\", \"baby\", \"woman\", \"thought\", \"stood\", \"yes\", \"child\", \"wouldn\", \"knew\", \"alexander\", \"went\", \"father\", \"voice\", \"bed\", \"door\", \"felt\", \"girl\", \"got\", \"know\", \"god\", \"little\", \"said\", \"young\", \"came\", \"ll\", \"away\", \"old\", \"man\", \"boy\", \"come\", \"going\", \"don\", \"let\", \"thing\", \"good\", \"life\", \"way\", \"look\", \"day\", \"asked\", \"people\", \"think\", \"night\"], \"Freq\": [793.0, 274.0, 197.0, 90.0, 207.0, 301.0, 493.0, 334.0, 123.0, 91.0, 155.0, 202.0, 128.0, 165.0, 123.0, 176.0, 165.0, 138.0, 96.0, 298.0, 236.0, 173.0, 207.0, 127.0, 55.0, 175.0, 280.0, 251.0, 131.0, 106.0, 46.900617382795126, 38.320191958750925, 32.60147624919302, 27.83152521145409, 25.929233675327964, 24.965651021853606, 21.16277883221049, 21.155429552015505, 19.254389784454855, 21.947937942987977, 18.28062873688695, 24.504910875563592, 15.442227275155343, 59.06823780924098, 15.429350272859391, 15.429775935704058, 38.06692470201912, 14.482031649232406, 35.292612040869656, 13.535621759504748, 53.265751957112805, 13.516253246233774, 12.582744451574866, 12.582358303937452, 12.582206179585173, 12.580083705056325, 12.579537857165432, 12.577344934489341, 12.576735754565982, 18.818378791886886, 48.98101977616403, 28.516446892422913, 34.18539770126028, 30.685701114865807, 20.296779363909685, 70.92710391222975, 76.42101603091835, 21.859355384655032, 24.064317493411167, 55.75253195087138, 55.41576812531251, 23.17663878239176, 32.9550931544918, 45.295959244571264, 32.176808958136476, 45.657896996243785, 44.088003270410304, 26.85607118011594, 30.029049163988436, 68.24415837156724, 61.473801113996295, 44.51582762921448, 45.179755849483996, 41.741827288632905, 61.560506185939644, 53.248518285571315, 99.248314287432, 73.15486854806153, 49.90191872032134, 77.17424013092683, 71.06844436634611, 67.45444118433464, 54.795758071218884, 73.85743200897522, 66.5095375715829, 58.071013526849256, 68.45390871103854, 64.72256586429445, 48.053470757014445, 59.56748789008415, 57.07727059133205, 52.34860935735924, 52.82355751026607, 50.68205733687975, 49.36909901937095, 51.044304802211734, 28.305925725072235, 24.424933130164646, 24.416582541428337, 20.5444652451976, 19.577791969757783, 51.22952404642763, 15.703268535408863, 34.95910743832306, 16.499023102025202, 39.41961363149058, 105.71631917016876, 10.843150222887697, 10.843191961881812, 15.366030813907821, 10.837350150282614, 18.966346585386187, 8.909802874473435, 27.529009854898238, 8.858011680160208, 14.160264880448482, 12.37711443597963, 7.945091103923942, 7.944499146179771, 26.498449187642514, 24.60188727042808, 6.979551908378109, 6.97782565983774, 6.961783314860093, 35.52040249074196, 16.49984135869281, 77.5176425354748, 34.38058053559376, 38.77975209703721, 33.56659824328073, 171.06640326090778, 47.60581979772384, 40.70073357657606, 50.99879715314241, 50.774953702109315, 65.62205389309968, 69.98216493822872, 23.882312072832605, 22.226309066144474, 67.03066445066625, 43.608897498620784, 90.07056610828111, 63.12724053593232, 76.72074181207162, 42.115783775743374, 269.28745480859703, 75.01508583602214, 137.834292346319, 58.362024780288344, 85.2562882919493, 78.6467368640006, 55.99466247540439, 88.49431784587405, 132.01586015801135, 59.776284645260404, 153.87030346473557, 66.51941709764442, 61.044387012277916, 68.1503425826705, 75.45918600647938, 71.63562137760948, 89.85286077004773, 100.30627971604221, 89.7550936647123, 91.2016309651222, 79.78955096407242, 66.59945264744273, 70.94711198307746, 66.17064226428631, 76.07309911923545, 73.78709559466981, 70.73831575985861, 68.82940026130453, 67.17454331593026, 130.55798857848046, 78.28316230995782, 80.15534955730654, 72.42766617967008, 49.9754582237562, 64.32886075217478, 43.1441484888636, 39.23921138129499, 37.28723205542037, 37.28516229185794, 33.38117353053979, 50.48186809847179, 29.4781160660435, 29.472070136194166, 27.524478420994274, 26.54656756146542, 24.598100241185158, 24.59746362742042, 28.36635933159848, 23.621534418463433, 23.621514707273207, 53.851561232574106, 22.63499327719876, 28.289427952000725, 21.667875350260555, 19.71722536869709, 19.715333295353982, 18.73929886285083, 44.956634171554086, 71.08883786921638, 58.67263564973986, 44.727317963526836, 41.01186311970625, 40.96117807002637, 42.75494355800678, 53.260048495564845, 77.66451404222026, 45.99694390738244, 256.68330871272184, 100.13108356008046, 299.5869369621243, 41.66774583018286, 89.54950650704207, 88.25087010038457, 63.24650314300961, 111.5499723025544, 196.8118194200373, 146.64337665669564, 77.42239713159228, 381.84361040741436, 75.45054972154996, 81.9264543905478, 54.33565818383028, 64.87072201972016, 157.17128924834788, 86.05398991963588, 90.41446202544775, 105.34110373746259, 200.51010750114827, 135.2672821274956, 136.36311808125208, 113.67484428167806, 143.13046428521747, 131.39357181060333, 102.30539146482391, 118.03946916863127, 110.80907382496773, 127.51280528548084, 85.81571642208273, 87.78699173276571, 90.85601777434411, 90.58171583241364, 91.80600480969774, 85.06904723383849, 17.17819215438906, 41.10660325195033, 10.842304100261792, 34.16341019762008, 51.60931009286742, 83.87131629281127, 16.961910390036625, 28.58624153789336, 21.55943702441364, 13.892065761848757, 4.315888104638218, 31.35339840756057, 10.914009441186714, 20.294080229062132, 14.366234414437422, 9.085753040664034, 8.384577507961867, 29.567935466298778, 63.98267165592669, 39.57085104384965, 13.310226929816382, 4.413536328938542, 11.812101414289996, 15.434840879722827, 8.542015318965753, 16.214437965845445, 13.141859292913466, 18.56590499962435, 5.376394928937756, 4.116116220725988, 18.870983705824198, 31.16195358873212, 23.437239531389693, 22.324315419680936, 62.114605055491836, 21.887162140461736, 25.33499643395695, 25.163041987260705, 68.3252303067515, 48.387853017338074, 65.54843990630692, 49.31128643695056, 31.93006553605514, 24.895635019269985, 25.29969976318785, 45.59237115011262, 50.87805430915465, 58.51478612186797, 39.12774388572421, 33.69960885418532, 42.05178208707929, 42.15988722908648, 51.062592292525196, 32.487661084422015, 30.139180521217806, 37.84698971611595, 43.12969271027913, 26.447916361015086, 27.32259171713408, 26.950204279634043, 26.223972084815536, 26.22312567603625, 30.807720714277114, 34.295855240737346, 18.509420935971928, 18.50660013197894, 17.54612923480971, 15.61662137025483, 15.616011782791325, 14.652382045426362, 91.65336955100095, 14.640724595512143, 14.61659100969848, 13.687751571357225, 13.684077201385561, 13.681568956662668, 12.722342625, 15.422502005302244, 11.760994549566403, 79.5965325943807, 15.325600615889108, 10.798802478098883, 10.79554911739028, 10.79056676812818, 10.790934402604213, 10.789337946981789, 18.783165780481713, 18.78293447851747, 25.066750015052275, 9.830940284581839, 53.628724415975874, 49.065441916510125, 55.025465700604315, 34.662685375571144, 110.38470093345866, 86.73179772095604, 32.36544188429684, 48.68000455264937, 115.3916776729292, 42.393882445335514, 35.80365335589421, 56.4131634829564, 36.297650116639076, 72.90742519564202, 22.67958197780214, 99.56843254895277, 50.257351293165335, 40.323913913242656, 30.457366445791592, 53.59719233693802, 66.88466514659395, 37.331796870817996, 97.33786957462681, 118.80837727344353, 48.2470893932957, 140.0064701171482, 351.18140878849994, 87.76999255278083, 100.0558140420699, 99.33034907589837, 79.03211438555671, 131.7804774714754, 140.1614815935645, 58.44275600148464, 102.08235138043348, 81.29417470698685, 95.25692500726028, 74.88672246223312, 64.2360325405732, 119.13152483850301, 82.1519341870276, 100.34242550525869, 70.95953136733563, 99.45093278293247, 68.27580654754789, 87.43700324028728, 69.72423847300396, 68.29549271581854], \"Total\": [793.0, 274.0, 197.0, 90.0, 207.0, 301.0, 493.0, 334.0, 123.0, 91.0, 155.0, 202.0, 128.0, 165.0, 123.0, 176.0, 165.0, 138.0, 96.0, 298.0, 236.0, 173.0, 207.0, 127.0, 55.0, 175.0, 280.0, 251.0, 131.0, 106.0, 47.66435300694079, 39.08449237122967, 33.364527973957685, 28.597992925746404, 26.691310763606385, 25.738143827757217, 21.924682233249268, 21.924817581034787, 20.018096873595088, 22.88088300320797, 19.06501411694571, 25.70966673750172, 16.204806079853498, 61.988572732105375, 16.204394517781513, 16.20489085728514, 40.058256092780745, 15.25155462487228, 37.190657020473616, 14.298157118147198, 56.28168009499065, 14.298523621335823, 13.344838599195498, 13.344843079876611, 13.344839526551368, 13.344862169537452, 13.344899633086355, 13.344939833001622, 13.3449308528566, 20.028426619099214, 52.394966399668554, 30.51959144721901, 37.20925808553479, 33.40360988757231, 21.934628832262863, 81.13903425209915, 88.77109117227329, 23.859328205313684, 26.714928402944295, 66.76963227458808, 67.14937119000098, 25.780980704131277, 39.08730858341472, 57.42506489349289, 38.23781272055417, 60.32370987759946, 59.39162196779938, 31.223974591614926, 36.35442971383614, 110.39094009275051, 97.00956488697172, 64.01392047945937, 66.049735679178, 61.32170923668715, 117.88826919757686, 93.23398979469351, 264.6635621508046, 168.1052358993333, 87.32555005640005, 211.53755012135673, 188.1876042250867, 175.5483402691202, 122.20078914070947, 273.01938601456936, 231.71600302131583, 165.2567983044057, 306.47272024823724, 259.6511321710864, 97.21507091062873, 305.43622983849286, 255.6860895864656, 160.69766950684618, 219.23861867225725, 158.86513520952573, 138.3197812763167, 793.1980625140224, 29.066277834701676, 25.188216012781325, 25.18742543006541, 21.310435117003763, 20.34069916976683, 53.3119807617854, 16.463037130041354, 36.73950920168934, 17.41923690830363, 41.644368123425274, 112.46771652014786, 11.615241615072751, 11.615681174914688, 16.46535509565286, 11.61544419412023, 20.34502437893198, 9.676277631083867, 30.047459886281374, 9.67652834284416, 15.48946486463944, 13.557378463277974, 8.707277541875028, 8.707210774621473, 29.058477697581232, 27.139427910242187, 7.737949798815921, 7.737860506987776, 7.737897552736257, 39.48906554376941, 18.395763377437287, 86.93927376656593, 38.53756413175105, 43.5365136121418, 37.81484319199781, 202.54345953668118, 54.28910391509655, 46.48914175778705, 58.87298783480293, 59.05703959312527, 78.44349545891568, 86.15500553198606, 27.144227761863924, 25.152542211811895, 85.4480242018976, 53.18898347486997, 120.6924336582733, 81.17637891156772, 102.74489704878292, 52.16582048184998, 493.62537576096867, 104.64650009036997, 234.15281293863504, 79.30368946288384, 130.85965117021175, 120.50229372173779, 76.67837338800305, 144.03487318157963, 255.6860895864656, 84.94096130626123, 334.6090934747777, 100.26523677017687, 95.46666258152898, 116.54560425433989, 146.63878947508448, 134.87934177696727, 215.76386447134615, 301.11435465212605, 259.6511321710864, 283.7377340480483, 204.71415487286404, 125.01374970261872, 162.35101162081622, 139.2006376068672, 274.29200396195097, 263.6274918132037, 207.05856226204017, 202.1217626252865, 219.23861867225725, 131.74744694320322, 79.0416917216722, 80.99298021478867, 73.18495123391355, 50.73405016321963, 65.35199596575514, 43.9011944553684, 39.99668095319412, 38.04442253897733, 38.0444082984282, 34.13989417338398, 51.70571903782868, 30.23542705121207, 30.234936155226137, 28.283157414718243, 27.307002651521763, 25.354806496723164, 25.354775130552355, 29.258280708044058, 24.378674890125282, 24.378670527073808, 55.59125568724587, 23.401739554694238, 29.257207622704772, 22.426402188945175, 20.47417369574092, 20.474115528689588, 19.4980227210834, 46.82195912250453, 74.13978785883918, 61.45750166124042, 46.813171618447996, 42.91715478224245, 42.89665200500997, 44.867768474782274, 56.465180883003036, 83.7560549354398, 48.75710006406647, 298.00492537405046, 111.16954463300408, 388.9490573137729, 44.81680850929822, 105.29405630331755, 108.9917540555221, 73.93467892099109, 146.94695472971074, 305.43622983849286, 215.50738617088143, 98.07230972170916, 793.1980625140224, 95.30910098855261, 106.76662465986624, 62.3159392055177, 79.91343885868758, 283.7377340480483, 123.4646484779024, 133.10411493977062, 172.8735212681787, 493.62537576096867, 263.6274918132037, 274.29200396195097, 202.1217626252865, 301.11435465212605, 265.38333183383327, 188.8314803304811, 255.82115900738123, 231.71600302131583, 334.6090934747777, 141.93088414521412, 165.08586651214736, 215.76386447134615, 234.15281293863504, 280.605154918067, 264.6635621508046, 17.961121314259582, 43.12194604653796, 11.700075655514535, 36.90569403096453, 55.84550812393424, 90.90616061720684, 19.90878972846631, 34.47677595534132, 26.335730556568986, 17.28202436116538, 5.455801077999437, 39.998919013714776, 14.622982316965466, 28.35111108716337, 20.167632226739922, 12.810231836101451, 11.911588284586154, 42.1534643882297, 91.75925342616294, 56.93288479394021, 19.252482229328315, 6.423512756744745, 17.46977961226738, 22.959421024425, 12.803104188002582, 24.696805696968863, 20.13841839535756, 28.52211199555129, 8.276134489824896, 6.441695690297954, 30.45689408364979, 51.788746686224925, 38.81757716815551, 37.01753180641881, 123.83285098432687, 37.982223466607806, 46.37530083851905, 47.483404869564716, 197.37841645995638, 128.9324252850555, 207.05856226204017, 155.23741712836463, 75.7014699237323, 50.32454706527702, 52.307589223058095, 165.08586651214736, 207.4386727106458, 274.29200396195097, 127.82948794710182, 97.21507091062873, 173.0630037424419, 176.2368911946503, 301.11435465212605, 106.26131396540352, 92.75698836431386, 204.71415487286404, 334.6090934747777, 88.16202157990388, 132.73249417201185, 121.3003531451971, 26.98571885013835, 26.985740113031277, 31.804157090501374, 35.656900936365275, 19.271959939038847, 19.271928781912695, 18.307756487420374, 16.379241516888644, 16.379216173724906, 15.415029062860157, 96.45899309675683, 15.41488098158036, 15.415264817709478, 14.45071119066926, 14.450763884434107, 14.450863632331542, 13.486300190496248, 16.37704240043871, 12.522303359993172, 84.88269641041104, 16.382867022120156, 11.558146294111001, 11.557949780159595, 11.557639126610676, 11.558162833175283, 11.558051587014772, 20.22402689990839, 20.224030361398192, 26.99957861381517, 10.593890181544452, 57.85865846732319, 53.03037228884849, 59.81156820696335, 37.61195313858666, 123.4268852265731, 97.39117995857622, 35.694986179152714, 54.95247669899157, 138.69837865089423, 48.257599882234366, 40.487324039246516, 66.60739113340799, 41.49620421779666, 89.53364153849799, 25.073035349115077, 135.9457805429062, 62.78202994632663, 49.24574271182145, 35.6370887905053, 69.45977814175703, 90.79523483151368, 45.387863018856734, 145.50569633380397, 189.70420918103298, 62.82940619342619, 236.30079058658143, 793.1980625140224, 135.29814974627882, 161.0339841155889, 165.2567983044057, 122.54615448701333, 251.92407677669968, 280.605154918067, 81.83629935183659, 184.3618986936372, 132.4718518007493, 175.5483402691202, 121.46569418607592, 95.39493602342327, 306.47272024823724, 161.43605560562384, 273.01938601456936, 129.0991508258936, 301.1134031707986, 117.84170377486396, 265.38333183383327, 132.80996956479686, 150.0499610240292], \"Category\": [\"Default\", \"Default\", \"Default\", \"Default\", \"Default\", \"Default\", \"Default\", \"Default\", \"Default\", \"Default\", \"Default\", \"Default\", \"Default\", \"Default\", \"Default\", \"Default\", \"Default\", \"Default\", \"Default\", \"Default\", \"Default\", \"Default\", \"Default\", \"Default\", \"Default\", \"Default\", \"Default\", \"Default\", \"Default\", \"Default\", \"Topic1\", \"Topic1\", \"Topic1\", \"Topic1\", \"Topic1\", \"Topic1\", \"Topic1\", \"Topic1\", \"Topic1\", \"Topic1\", \"Topic1\", \"Topic1\", \"Topic1\", \"Topic1\", \"Topic1\", \"Topic1\", \"Topic1\", \"Topic1\", \"Topic1\", \"Topic1\", \"Topic1\", \"Topic1\", \"Topic1\", \"Topic1\", \"Topic1\", \"Topic1\", \"Topic1\", \"Topic1\", \"Topic1\", \"Topic1\", \"Topic1\", \"Topic1\", \"Topic1\", \"Topic1\", \"Topic1\", \"Topic1\", \"Topic1\", \"Topic1\", \"Topic1\", \"Topic1\", \"Topic1\", \"Topic1\", \"Topic1\", \"Topic1\", \"Topic1\", \"Topic1\", \"Topic1\", \"Topic1\", \"Topic1\", \"Topic1\", \"Topic1\", \"Topic1\", \"Topic1\", \"Topic1\", \"Topic1\", \"Topic1\", \"Topic1\", \"Topic1\", \"Topic1\", \"Topic1\", \"Topic1\", \"Topic1\", \"Topic1\", \"Topic1\", \"Topic1\", \"Topic1\", \"Topic1\", \"Topic1\", \"Topic1\", \"Topic1\", \"Topic1\", \"Topic1\", \"Topic1\", \"Topic1\", \"Topic1\", \"Topic1\", \"Topic2\", \"Topic2\", \"Topic2\", \"Topic2\", \"Topic2\", \"Topic2\", \"Topic2\", \"Topic2\", \"Topic2\", \"Topic2\", \"Topic2\", \"Topic2\", \"Topic2\", \"Topic2\", \"Topic2\", \"Topic2\", \"Topic2\", \"Topic2\", \"Topic2\", \"Topic2\", \"Topic2\", \"Topic2\", \"Topic2\", \"Topic2\", \"Topic2\", \"Topic2\", \"Topic2\", \"Topic2\", \"Topic2\", \"Topic2\", \"Topic2\", \"Topic2\", \"Topic2\", \"Topic2\", \"Topic2\", \"Topic2\", \"Topic2\", \"Topic2\", \"Topic2\", \"Topic2\", \"Topic2\", \"Topic2\", \"Topic2\", \"Topic2\", \"Topic2\", \"Topic2\", \"Topic2\", \"Topic2\", \"Topic2\", \"Topic2\", \"Topic2\", \"Topic2\", \"Topic2\", \"Topic2\", \"Topic2\", \"Topic2\", \"Topic2\", \"Topic2\", \"Topic2\", \"Topic2\", \"Topic2\", \"Topic2\", \"Topic2\", \"Topic2\", \"Topic2\", \"Topic2\", \"Topic2\", \"Topic2\", \"Topic2\", \"Topic2\", \"Topic2\", \"Topic2\", \"Topic2\", \"Topic2\", \"Topic2\", \"Topic2\", \"Topic2\", \"Topic2\", \"Topic3\", \"Topic3\", \"Topic3\", \"Topic3\", \"Topic3\", \"Topic3\", \"Topic3\", \"Topic3\", \"Topic3\", \"Topic3\", \"Topic3\", \"Topic3\", \"Topic3\", \"Topic3\", \"Topic3\", \"Topic3\", \"Topic3\", \"Topic3\", \"Topic3\", \"Topic3\", \"Topic3\", \"Topic3\", \"Topic3\", \"Topic3\", \"Topic3\", \"Topic3\", \"Topic3\", \"Topic3\", \"Topic3\", \"Topic3\", \"Topic3\", \"Topic3\", \"Topic3\", \"Topic3\", \"Topic3\", \"Topic3\", \"Topic3\", \"Topic3\", \"Topic3\", \"Topic3\", \"Topic3\", \"Topic3\", \"Topic3\", \"Topic3\", \"Topic3\", \"Topic3\", \"Topic3\", \"Topic3\", \"Topic3\", \"Topic3\", \"Topic3\", \"Topic3\", \"Topic3\", \"Topic3\", \"Topic3\", \"Topic3\", \"Topic3\", \"Topic3\", \"Topic3\", \"Topic3\", \"Topic3\", \"Topic3\", \"Topic3\", \"Topic3\", \"Topic3\", \"Topic3\", \"Topic3\", \"Topic3\", \"Topic3\", \"Topic3\", \"Topic3\", \"Topic3\", \"Topic3\", \"Topic3\", \"Topic4\", \"Topic4\", \"Topic4\", \"Topic4\", \"Topic4\", \"Topic4\", \"Topic4\", \"Topic4\", \"Topic4\", \"Topic4\", \"Topic4\", \"Topic4\", \"Topic4\", \"Topic4\", \"Topic4\", \"Topic4\", \"Topic4\", \"Topic4\", \"Topic4\", \"Topic4\", \"Topic4\", \"Topic4\", \"Topic4\", \"Topic4\", \"Topic4\", \"Topic4\", \"Topic4\", \"Topic4\", \"Topic4\", \"Topic4\", \"Topic4\", \"Topic4\", \"Topic4\", \"Topic4\", \"Topic4\", \"Topic4\", \"Topic4\", \"Topic4\", \"Topic4\", \"Topic4\", \"Topic4\", \"Topic4\", \"Topic4\", \"Topic4\", \"Topic4\", \"Topic4\", \"Topic4\", \"Topic4\", \"Topic4\", \"Topic4\", \"Topic4\", \"Topic4\", \"Topic4\", \"Topic4\", \"Topic4\", \"Topic4\", \"Topic4\", \"Topic4\", \"Topic4\", \"Topic4\", \"Topic5\", \"Topic5\", \"Topic5\", \"Topic5\", \"Topic5\", \"Topic5\", \"Topic5\", \"Topic5\", \"Topic5\", \"Topic5\", \"Topic5\", \"Topic5\", \"Topic5\", \"Topic5\", \"Topic5\", \"Topic5\", \"Topic5\", \"Topic5\", \"Topic5\", \"Topic5\", \"Topic5\", \"Topic5\", \"Topic5\", \"Topic5\", \"Topic5\", \"Topic5\", \"Topic5\", \"Topic5\", \"Topic5\", \"Topic5\", \"Topic5\", \"Topic5\", \"Topic5\", \"Topic5\", \"Topic5\", \"Topic5\", \"Topic5\", \"Topic5\", \"Topic5\", \"Topic5\", \"Topic5\", \"Topic5\", \"Topic5\", \"Topic5\", \"Topic5\", \"Topic5\", \"Topic5\", \"Topic5\", \"Topic5\", \"Topic5\", \"Topic5\", \"Topic5\", \"Topic5\", \"Topic5\", \"Topic5\", \"Topic5\", \"Topic5\", \"Topic5\", \"Topic5\", \"Topic5\", \"Topic5\", \"Topic5\", \"Topic5\", \"Topic5\", \"Topic5\", \"Topic5\", \"Topic5\", \"Topic5\", \"Topic5\", \"Topic5\", \"Topic5\", \"Topic5\", \"Topic5\", \"Topic5\", \"Topic5\", \"Topic5\", \"Topic5\", \"Topic5\"], \"logprob\": [30.0, 29.0, 28.0, 27.0, 26.0, 25.0, 24.0, 23.0, 22.0, 21.0, 20.0, 19.0, 18.0, 17.0, 16.0, 15.0, 14.0, 13.0, 12.0, 11.0, 10.0, 9.0, 8.0, 7.0, 6.0, 5.0, 4.0, 3.0, 2.0, 1.0, -6.1393, -6.3414, -6.503, -6.6612, -6.732, -6.7699, -6.9351, -6.9355, -7.0296, -6.8987, -7.0815, -6.7885, -7.2503, -5.9087, -7.2511, -7.2511, -6.348, -7.3145, -6.4237, -7.382, -6.0121, -7.3835, -7.455, -7.4551, -7.4551, -7.4553, -7.4553, -7.4555, -7.4555, -7.0525, -6.0959, -6.6369, -6.4556, -6.5636, -6.9769, -5.7257, -5.6511, -6.9027, -6.8066, -5.9665, -5.9725, -6.8442, -6.4922, -6.1742, -6.5161, -6.1662, -6.2012, -6.6969, -6.5852, -5.7643, -5.8688, -6.1915, -6.1767, -6.2559, -5.8674, -6.0124, -5.3897, -5.6948, -6.0773, -5.6413, -5.7237, -5.7759, -5.9838, -5.6852, -5.79, -5.9257, -5.7612, -5.8173, -6.1151, -5.9003, -5.943, -6.0294, -6.0204, -6.0618, -6.088, -6.0547, -6.9734, -7.1208, -7.1212, -7.2938, -7.342, -6.3801, -7.5626, -6.7623, -7.5131, -6.6422, -5.6557, -7.9329, -7.9329, -7.5843, -7.9334, -7.3738, -8.1293, -7.0012, -8.1351, -7.666, -7.8006, -8.2439, -8.244, -7.0394, -7.1136, -8.3735, -8.3737, -8.376, -6.7463, -7.5131, -5.9659, -6.7789, -6.6585, -6.8029, -5.1744, -6.4535, -6.6102, -6.3846, -6.389, -6.1325, -6.0682, -7.1433, -7.2152, -6.1113, -6.5412, -5.8158, -6.1713, -5.9763, -6.576, -4.7207, -5.9987, -5.3904, -6.2498, -5.8708, -5.9515, -6.2912, -5.8335, -5.4335, -6.2258, -5.2803, -6.1189, -6.2048, -6.0947, -5.9928, -6.0448, -5.8183, -5.7082, -5.8194, -5.8034, -5.937, -6.1177, -6.0545, -6.1242, -5.9847, -6.0153, -6.0575, -6.0848, -6.1091, -5.7478, -6.2592, -6.2356, -6.337, -6.708, -6.4556, -6.855, -6.9499, -7.0009, -7.001, -7.1116, -6.698, -7.2359, -7.2361, -7.3045, -7.3407, -7.4169, -7.4169, -7.2744, -7.4574, -7.4574, -6.6333, -7.5001, -7.2771, -7.5437, -7.6381, -7.6382, -7.6889, -6.8139, -6.3556, -6.5476, -6.819, -6.9057, -6.9069, -6.8641, -6.6444, -6.2672, -6.791, -5.0717, -6.0131, -4.9172, -6.8898, -6.1248, -6.1394, -6.4725, -5.9051, -5.3373, -5.6316, -6.2703, -4.6746, -6.2961, -6.2137, -6.6244, -6.4472, -5.5622, -6.1646, -6.1152, -5.9624, -5.3187, -5.7123, -5.7043, -5.8862, -5.6558, -5.7414, -5.9916, -5.8486, -5.9118, -5.7714, -6.1674, -6.1447, -6.1103, -6.1133, -6.0999, -6.1761, -6.2955, -5.423, -6.7557, -5.608, -5.1954, -4.7098, -6.3082, -5.7862, -6.0683, -6.5078, -7.6768, -5.6938, -6.7491, -6.1288, -6.4743, -6.9324, -7.0127, -5.7524, -4.9805, -5.461, -6.5506, -7.6545, -6.67, -6.4025, -6.9941, -6.3532, -6.5633, -6.2178, -7.4571, -7.7242, -6.2015, -5.6999, -5.9848, -6.0335, -5.0102, -6.0532, -5.9069, -5.9138, -4.9149, -5.2599, -4.9563, -5.241, -5.6756, -5.9244, -5.9083, -5.3194, -5.2097, -5.0699, -5.4723, -5.6216, -5.4002, -5.3977, -5.2061, -5.6583, -5.7333, -5.5056, -5.3749, -5.864, -5.8314, -5.8451, -6.7522, -6.7522, -6.5911, -6.4838, -7.1006, -7.1007, -7.154, -7.2705, -7.2706, -7.3343, -5.5008, -7.335, -7.3367, -7.4024, -7.4026, -7.4028, -7.4755, -7.283, -7.5541, -5.6419, -7.2893, -7.6394, -7.6397, -7.6402, -7.6401, -7.6403, -7.0859, -7.0859, -6.7973, -7.7333, -6.0368, -6.1257, -6.0111, -6.4732, -5.3149, -5.556, -6.5418, -6.1336, -5.2705, -6.2718, -6.4408, -5.9862, -6.4271, -5.7297, -6.8974, -5.418, -6.1017, -6.3219, -6.6025, -6.0374, -5.8159, -6.399, -5.4407, -5.2413, -6.1425, -5.0772, -4.1576, -5.5441, -5.4131, -5.4204, -5.649, -5.1377, -5.0761, -5.9508, -5.3931, -5.6208, -5.4623, -5.7029, -5.8563, -5.2386, -5.6103, -5.4103, -5.7567, -5.4192, -5.7953, -5.5479, -5.7743, -5.795], \"loglift\": [30.0, 29.0, 28.0, 27.0, 26.0, 25.0, 24.0, 23.0, 22.0, 21.0, 20.0, 19.0, 18.0, 17.0, 16.0, 15.0, 14.0, 13.0, 12.0, 11.0, 10.0, 9.0, 8.0, 7.0, 6.0, 5.0, 4.0, 3.0, 2.0, 1.0, 1.7298, 1.7262, 1.7229, 1.7188, 1.717, 1.7155, 1.7106, 1.7103, 1.7071, 1.7044, 1.704, 1.698, 1.6978, 1.6977, 1.697, 1.697, 1.695, 1.6942, 1.6936, 1.6912, 1.6909, 1.6897, 1.6872, 1.6872, 1.6871, 1.687, 1.6869, 1.6867, 1.6867, 1.6837, 1.6786, 1.6781, 1.6612, 1.6611, 1.6684, 1.6115, 1.5962, 1.6584, 1.6415, 1.5657, 1.5539, 1.6395, 1.5753, 1.5087, 1.5734, 1.4674, 1.448, 1.5953, 1.5548, 1.2651, 1.2898, 1.3827, 1.3662, 1.3614, 1.0963, 1.1858, 0.7652, 0.914, 1.1864, 0.7376, 0.7722, 0.7895, 0.9439, 0.4386, 0.4978, 0.7002, 0.247, 0.3568, 1.0414, 0.1114, 0.2464, 0.6244, 0.3228, 0.6035, 0.7157, -0.9974, 1.3904, 1.3862, 1.3858, 1.3803, 1.3787, 1.3771, 1.3697, 1.3672, 1.3626, 1.362, 1.355, 1.3481, 1.3481, 1.3478, 1.3476, 1.3468, 1.3344, 1.3294, 1.3285, 1.3272, 1.3258, 1.3253, 1.3253, 1.3247, 1.3188, 1.3138, 1.3135, 1.3112, 1.311, 1.3082, 1.3022, 1.3028, 1.3012, 1.2978, 1.248, 1.2856, 1.2839, 1.2733, 1.2658, 1.2385, 1.209, 1.2889, 1.2932, 1.1742, 1.2183, 1.1243, 1.1655, 1.1248, 1.2029, 0.8109, 1.084, 0.887, 1.1103, 0.9885, 0.9902, 1.1026, 0.9298, 0.7559, 1.0656, 0.6401, 1.0066, 0.9697, 0.8804, 0.7525, 0.7841, 0.5409, 0.3177, 0.3547, 0.2819, 0.4747, 0.7872, 0.5891, 0.6732, 0.1344, 0.1436, 0.3429, 0.3397, 0.2341, 1.1047, 1.1041, 1.1034, 1.1034, 1.0987, 1.098, 1.0964, 1.0947, 1.0937, 1.0936, 1.0913, 1.0898, 1.0884, 1.0882, 1.0866, 1.0855, 1.0835, 1.0835, 1.0828, 1.0822, 1.0822, 1.082, 1.0805, 1.0802, 1.0794, 1.0761, 1.076, 1.0741, 1.0731, 1.0718, 1.0674, 1.0682, 1.0684, 1.0676, 1.0656, 1.0554, 1.0383, 1.0555, 0.9645, 1.0092, 0.8527, 1.0409, 0.9518, 0.9027, 0.9576, 0.8382, 0.6743, 0.7288, 0.8774, 0.3827, 0.8801, 0.849, 0.9768, 0.9052, 0.5231, 0.7528, 0.7271, 0.6184, 0.2129, 0.4465, 0.4149, 0.5383, 0.3701, 0.4108, 0.5009, 0.3403, 0.3761, 0.149, 0.6107, 0.4822, 0.2489, 0.1641, -0.0035, -0.0212, 2.5497, 2.5464, 2.5181, 2.517, 2.5153, 2.5137, 2.434, 2.4069, 2.3941, 2.3759, 2.3599, 2.3507, 2.3017, 2.2599, 2.255, 2.2507, 2.2431, 2.2396, 2.2337, 2.2304, 2.2251, 2.2189, 2.2029, 2.1971, 2.1895, 2.1735, 2.1674, 2.1649, 2.1629, 2.1463, 2.1155, 2.0863, 2.0897, 2.0885, 1.9043, 2.043, 1.9896, 1.9592, 1.5334, 1.6142, 1.444, 1.4474, 1.731, 1.8904, 1.8679, 1.3075, 1.1888, 1.0493, 1.4104, 1.5348, 1.1795, 1.1639, 0.8198, 1.4092, 1.4701, 0.9062, 0.5455, 1.3902, 1.0136, 1.0899, 1.6859, 1.6858, 1.6827, 1.6756, 1.6741, 1.674, 1.672, 1.6668, 1.6668, 1.6638, 1.6634, 1.663, 1.6613, 1.6603, 1.66, 1.6598, 1.6562, 1.6545, 1.6518, 1.6502, 1.6478, 1.6466, 1.6463, 1.6458, 1.6458, 1.6457, 1.6406, 1.6406, 1.6402, 1.6398, 1.6386, 1.6368, 1.6311, 1.6328, 1.6028, 1.5986, 1.6166, 1.5933, 1.5305, 1.585, 1.5916, 1.5484, 1.5807, 1.5091, 1.6142, 1.4031, 1.492, 1.5146, 1.5574, 1.4553, 1.4089, 1.5191, 1.3125, 1.2466, 1.4504, 1.1911, 0.8997, 1.2817, 1.2386, 1.2055, 1.2759, 1.0665, 1.0204, 1.3778, 1.1234, 1.2262, 1.1032, 1.2309, 1.319, 0.7696, 1.039, 0.7136, 1.116, 0.6067, 1.1687, 0.6043, 1.0701, 0.9274]}, \"token.table\": {\"Topic\": [1, 2, 3, 4, 5, 1, 2, 3, 2, 4, 2, 3, 3, 4, 2, 3, 4, 5, 2, 3, 4, 2, 3, 4, 3, 5, 1, 1, 2, 3, 4, 5, 1, 2, 3, 4, 5, 1, 2, 3, 4, 5, 3, 4, 3, 1, 2, 3, 4, 5, 1, 2, 3, 5, 3, 5, 1, 5, 1, 1, 1, 4, 1, 3, 5, 3, 1, 2, 3, 4, 5, 1, 2, 3, 4, 5, 1, 3, 4, 1, 2, 3, 4, 5, 1, 2, 4, 5, 3, 4, 5, 1, 3, 3, 1, 3, 5, 1, 2, 1, 2, 3, 4, 5, 1, 2, 3, 5, 3, 2, 4, 2, 4, 5, 1, 2, 3, 5, 1, 3, 2, 3, 4, 1, 3, 1, 2, 3, 5, 1, 2, 3, 4, 5, 3, 4, 5, 2, 3, 4, 5, 1, 2, 3, 4, 5, 1, 3, 4, 5, 1, 2, 3, 5, 1, 1, 2, 3, 4, 5, 1, 2, 3, 4, 5, 1, 2, 3, 3, 2, 3, 5, 3, 1, 2, 3, 4, 5, 2, 3, 4, 5, 3, 1, 3, 4, 1, 2, 5, 1, 2, 3, 1, 3, 5, 1, 2, 3, 4, 2, 3, 1, 3, 4, 5, 2, 3, 2, 3, 2, 3, 4, 5, 3, 2, 1, 2, 3, 5, 5, 2, 3, 4, 1, 2, 3, 4, 5, 5, 2, 3, 3, 1, 2, 3, 4, 2, 2, 1, 2, 3, 4, 1, 2, 3, 5, 1, 2, 3, 4, 5, 1, 2, 3, 5, 1, 2, 3, 1, 2, 3, 4, 2, 1, 3, 2, 3, 4, 2, 1, 2, 3, 4, 5, 1, 2, 3, 2, 2, 5, 2, 3, 1, 2, 3, 5, 2, 3, 1, 3, 4, 5, 3, 4, 2, 3, 5, 1, 1, 4, 5, 2, 3, 4, 5, 1, 4, 2, 3, 2, 5, 1, 3, 2, 5, 1, 3, 5, 1, 1, 2, 3, 4, 5, 1, 5, 3, 1, 2, 3, 4, 5, 2, 3, 2, 3, 5, 3, 5, 1, 2, 3, 5, 1, 2, 1, 2, 3, 4, 5, 1, 3, 5, 2, 3, 4, 5, 1, 3, 5, 5, 1, 5, 5, 1, 2, 3, 4, 5, 3, 4, 5, 5, 5, 1, 2, 3, 4, 5, 1, 3, 5, 1, 1, 5, 1, 1, 2, 3, 4, 5, 1, 1, 2, 3, 4, 5, 3, 1, 2, 1, 2, 3, 4, 5, 2, 1, 2, 4, 2, 3, 1, 2, 3, 4, 1, 2, 3, 4, 5, 1, 3, 4, 1, 2, 2, 1, 2, 3, 4, 5, 1, 2, 3, 4, 5, 1, 2, 3, 4, 3, 5, 3, 2, 3, 3, 1, 3, 4, 5, 1, 2, 3, 4, 5, 2, 3, 5, 2, 3, 4, 1, 3, 1, 2, 3, 5, 1, 2, 3, 4, 5, 1, 1, 2, 3, 4, 5, 2, 5, 1, 2, 3, 4, 5, 5, 5, 5, 1, 2, 3, 4, 5, 1, 2, 3, 5, 2, 3, 4, 1, 2, 3, 4, 2, 1, 2, 3, 4, 5, 1, 3, 5, 2, 3, 5, 5, 2, 3, 1, 2, 3, 5, 1, 2, 3, 4, 2, 4, 1, 3, 1, 2, 3, 4, 1, 2, 3, 4, 5, 1, 2, 3, 5, 1, 2, 3, 4, 3, 3, 5, 2, 4, 1, 2, 3, 4, 5, 1, 3, 5, 2, 1, 2, 3, 4, 5, 2, 3, 1, 3, 4, 5, 5, 3, 2, 3, 4, 5, 1, 2, 3, 5, 2, 3, 4, 1, 1, 5, 1, 2, 1, 3, 5, 1, 2, 3, 4, 5, 1, 2, 3, 4, 5, 1, 2, 3, 1, 2, 4, 1, 1, 1, 1, 2, 3, 4, 5, 2, 3, 4, 1, 2, 3, 4, 5, 1, 4, 1, 2, 3, 4, 5, 1, 1, 2, 4, 5, 2, 3, 1, 2, 3, 4, 2, 3, 4, 2, 5, 1, 4, 3, 1, 2, 3, 4, 5, 2, 1, 2, 3, 4, 1, 2, 3, 1, 2, 3, 2, 3, 4, 5, 1, 2, 3, 4, 2, 2, 3, 2, 5, 2, 4, 3, 5, 4, 2, 4, 1, 2, 3, 4, 5, 3, 3, 1, 2, 3, 4, 2, 4, 1, 2, 3, 4, 5, 2, 3, 4, 5, 2, 5, 1, 2, 3, 4, 5, 1, 5, 1, 2, 3, 4, 5, 1, 2, 2, 3, 1, 1, 2, 3, 4, 5, 2, 3, 5, 1, 2, 3, 5, 1, 2, 4, 1, 2, 3, 4, 5, 2, 3, 4, 5, 3, 2, 3, 1, 2, 3, 4, 5, 2, 3, 4, 5, 1, 2, 3, 4, 5, 1, 2, 3, 4, 5, 3, 4, 5, 5, 1, 3, 5, 1, 2, 3, 1, 2, 3, 4, 5, 5, 5, 3, 1, 5, 1, 2, 3, 4, 5, 2, 3, 4, 5, 3, 4, 1, 2, 3, 4, 5, 3, 4, 3, 5, 5, 3, 5, 1, 2, 3, 4, 5, 3, 4, 2, 3, 4, 5, 1, 2, 2, 3, 4, 2, 4, 1, 2, 3, 4, 5, 1, 2, 3, 4, 5, 1, 2, 3, 4, 5, 5, 5, 3, 3, 4, 2, 3, 4, 5, 1, 2, 3, 4, 5, 1, 2, 3, 4, 1, 2, 3, 5, 2, 3, 4, 2, 3, 4, 5, 1, 3, 5, 1, 2, 3, 4, 5, 1, 2, 3, 4, 5, 3, 1, 2, 3, 5, 3, 1, 3, 5, 1, 2, 3, 4, 5, 1, 1, 2, 3, 5, 1, 2, 3, 5, 5, 1, 2, 3, 4, 5, 1, 2, 3, 4, 5, 2, 3, 5, 1, 1, 1, 3, 5, 1, 3, 5, 1, 2, 3, 5], \"Freq\": [0.08106077281954034, 0.3207187098512248, 0.5533278840290362, 0.04229257712323844, 0.0035243814269365365, 0.09934307392498427, 0.649550867971051, 0.24453679735380743, 0.3104772557033802, 0.6209545114067604, 0.9318591357129601, 0.06656136683664, 0.15567805932197942, 0.6227122372879177, 0.4110680450074742, 0.1783880195315454, 0.3722880407614861, 0.03878000424598813, 0.8662716446990179, 0.06794287409404061, 0.05095715557053046, 0.20284872494150502, 0.6761624164716834, 0.12020665181718816, 0.07976696766674433, 0.9173201281675598, 0.9741520128739287, 0.11379693291341879, 0.28069910118643304, 0.5120861981103846, 0.01517292438845584, 0.07586462194227919, 0.09547269211724331, 0.5114608506280892, 0.30687651037685354, 0.0613753020753707, 0.013638956016749046, 0.042429800654889355, 0.01697192026195574, 0.33943840523911484, 0.02545788039293361, 0.5770452889064952, 0.17359077485976307, 0.8100902826788943, 0.9828329191616163, 0.11618036111684815, 0.6555891805879288, 0.0829859722263201, 0.14937475000737618, 0.008298597222632011, 0.13872324326424745, 0.0163203815604997, 0.19584457872599642, 0.6446550716397382, 0.08404541704941516, 0.8964844485270951, 0.9517883280678033, 0.03226401112094249, 0.9722526172035441, 0.9741576821733929, 0.3124242325348164, 0.7029545232033368, 0.11224261396642786, 0.028060653491606965, 0.8418196047482089, 0.9793120937505323, 0.3542515723193227, 0.1807405981221034, 0.2168887177465241, 0.04337774354930482, 0.20242946989675584, 0.32102701409429185, 0.195134067390648, 0.15107153604437265, 0.012589294670364386, 0.32102701409429185, 0.2979379950405221, 0.049656332506753685, 0.6455323225877979, 0.15601254696920835, 0.11556484960682101, 0.4795941258683072, 0.2426861841743241, 0.0115564849606821, 0.07500202690406119, 0.07500202690406119, 0.7750209446752989, 0.07500202690406119, 0.02709608981099183, 0.9212670535737222, 0.05419217962198366, 0.9220712255888414, 0.041912328435856426, 0.9744577833246196, 0.20773177837517262, 0.07331709825006093, 0.708731949750589, 0.1725267601825867, 0.8051248808520712, 0.014488654645459145, 0.3428981599425331, 0.24147757742431908, 0.3187504022001012, 0.08693192787275487, 0.16766647206976892, 0.06209869335917367, 0.14903686406201683, 0.6209869335917367, 0.9591397518837907, 0.18329114014667952, 0.7331645605867181, 0.050229070357308746, 0.8538941960742487, 0.050229070357308746, 0.5684622112247795, 0.12870842518296893, 0.2359654461687764, 0.06435421259148447, 0.94413777454279, 0.9899884793424482, 0.07594245375893455, 0.07594245375893455, 0.8353669913482801, 0.9486516520414788, 0.04992903431797257, 0.015013348863898593, 0.030026697727797185, 0.10509344204729015, 0.8407475363783212, 0.13456615346355294, 0.11136509252156106, 0.6821111916945615, 0.009280424376796756, 0.06496297063757729, 0.16605989807932783, 0.7116852774828336, 0.14233705549656672, 0.14024206905238631, 0.14024206905238631, 0.666149827998835, 0.07012103452619316, 0.4937506042054644, 0.02057294184189435, 0.06171882552568305, 0.34974001131220395, 0.07200529644663023, 0.8750412258963158, 0.0862716701587917, 0.012324524308398815, 0.012324524308398815, 0.6159925800329843, 0.13588071618374656, 0.17211557383274562, 0.06341100088574839, 0.9615013545113418, 0.04799472069490541, 0.5359410477597771, 0.26397096382197976, 0.007999120115817568, 0.14398416208471623, 0.1193305132779004, 0.06508937087885476, 0.24408514079570537, 0.010848228479809126, 0.5532596524702654, 0.008995269372571663, 0.08995269372571663, 0.8995269372571663, 0.9569940311736049, 0.013488034277950483, 0.9576504337344843, 0.013488034277950483, 0.984467137916595, 0.028735500560686137, 0.4741357592513213, 0.3160905061675475, 0.13649362766325915, 0.05028712598120074, 0.904632387389119, 0.1742204211397433, 0.6533265792740374, 0.13066531585480748, 0.9794722110286865, 0.07806259970891603, 0.15612519941783207, 0.7025633973802443, 0.9137510864054986, 0.0268750319531029, 0.0268750319531029, 0.013041486873226473, 0.7303232649006826, 0.247788250591303, 0.018857118229401632, 0.037714236458803264, 0.92399879324068, 0.02705090532870593, 0.09467816865047077, 0.8521035178542369, 0.02705090532870593, 0.14245818355396941, 0.8547491013238164, 0.03764305042663332, 0.6305210946461081, 0.3011444034130666, 0.02823228781997499, 0.8851268726106343, 0.07376057271755286, 0.9110037355926968, 0.06073358237284645, 0.154569152371575, 0.2060922031621, 0.5925150840910375, 0.0257615253952625, 0.9725476529892212, 0.9187787234136161, 0.6288039748562179, 0.05154130941444409, 0.26801480895510926, 0.05154130941444409, 0.9517514675357228, 0.17205916261253815, 0.3441183252250763, 0.4779421183681615, 0.1261983013703495, 0.21586551550191363, 0.262359626533095, 0.06642015861597343, 0.32877978514906847, 0.9517083431656462, 0.0325428132601971, 0.9600129911758144, 0.9844669617265102, 0.006441745930190965, 0.33497078836993016, 0.34141253430012114, 0.3156455505793573, 0.9300856341371174, 0.9470150100302003, 0.03456048403642617, 0.8442632528898393, 0.11355587611968598, 0.004937212005203738, 0.04050981267834448, 0.008101962535668895, 0.04861177521401337, 0.8912158789235786, 0.38166125579590926, 0.02848218326835144, 0.02848218326835144, 0.01708930996101086, 0.5411614820986773, 0.0719841055322081, 0.05758728442576649, 0.10077774774509135, 0.7774283397478476, 0.9280434092104949, 0.02993688416808048, 0.02993688416808048, 0.07344524213737737, 0.11541395193016445, 0.7869133086147576, 0.010492177448196768, 0.9046384954430776, 0.017988440585439535, 0.9713757916137349, 0.1679037213356377, 0.08395186066781885, 0.6716148853425508, 0.9528564190348721, 0.03527198623452798, 0.07054397246905596, 0.07054397246905596, 0.7054397246905596, 0.07054397246905596, 0.034413365022326614, 0.894747490580492, 0.034413365022326614, 0.9301097325988863, 0.9038401340746312, 0.06456000957675936, 0.9211690122091784, 0.07369352097673426, 0.04107148102837789, 0.010267870257094473, 0.05133935128547236, 0.8933047123672191, 0.9566329982726387, 0.03751501954010348, 0.026328105854022822, 0.3159372702482739, 0.5792183287885021, 0.052656211708045644, 0.2862085333056503, 0.6869004799335608, 0.03185624933933854, 0.1592812466966927, 0.7964062334834634, 0.9256464688410126, 0.02200070915349424, 0.9240297844467581, 0.055001772883735596, 0.055068969305254484, 0.19824828949891615, 0.011013793861050898, 0.7379241886904101, 0.8647201502415629, 0.12810668892467597, 0.9424926839428699, 0.05334864248733225, 0.869765481960062, 0.054360342622503874, 0.8921305307952991, 0.07757656789524339, 0.9718741368081826, 0.9517175033513667, 0.8368679514662426, 0.10460849393328032, 0.05230424696664016, 0.9578186875390577, 0.8561345703469037, 0.056324642785980504, 0.0225298571143922, 0.0112649285571961, 0.0450597142287844, 0.9502093122757881, 0.03276583835433752, 0.9809865985032871, 0.03546487060514107, 0.18239076311215408, 0.42051203717524416, 0.3445158858785133, 0.015199230259346174, 0.02330070586165147, 0.9553289403277102, 0.022032321715268734, 0.15422625200688114, 0.8151959034649432, 0.22282559788802864, 0.763973478473241, 0.05284141426911348, 0.05284141426911348, 0.2717558448125836, 0.6114506508283131, 0.898374108962797, 0.0748645090802331, 0.2218794545397752, 0.21535358822978182, 0.15988372459483802, 0.013051732619986777, 0.38828904544460663, 0.19243232880563882, 0.13745166343259915, 0.6666405676481059, 0.27707697965027994, 0.49582196358471153, 0.21509923420219101, 0.010937249196721578, 0.6849124155670553, 0.13045950772705814, 0.17938182312470496, 0.9747153465437528, 0.028045062070442963, 0.9535321103950608, 0.9159162950935621, 0.263688256732692, 0.030135800769450508, 0.14314505365488991, 0.20341665519379093, 0.35409565904104345, 0.2980652757896298, 0.496775459649383, 0.19871018385975323, 0.9730614541741501, 0.9768462100947954, 0.24174573038717423, 0.30560309313095607, 0.30560309313095607, 0.013683720587953257, 0.13227596568354816, 0.7836299372662819, 0.139311988847339, 0.05224199581775213, 0.9256513114741087, 0.9410965765066305, 0.026888473614475154, 0.9578246004474826, 0.37405980330450656, 0.0680108733280921, 0.32116245738265714, 0.02267029110936403, 0.21158938368739763, 0.9741549473904445, 0.28914705556109815, 0.012946883084825292, 0.4790346741385358, 0.017262510779767055, 0.20715012935720467, 0.9860063417652578, 0.07951482530703315, 0.8746630783773647, 0.13728531506930855, 0.5834625890445614, 0.20592797260396284, 0.06864265753465427, 0.008580332191831784, 0.9469956892201624, 0.8190694719147258, 0.029784344433262756, 0.13402954994968239, 0.8991178365429507, 0.10577856900505303, 0.0126097538055657, 0.7313657207228106, 0.2017560608890512, 0.0378292614166971, 0.007414033808480266, 0.5338104342105792, 0.1927648790204869, 0.1705227775950461, 0.09638243951024345, 0.029005032294647463, 0.11602012917858985, 0.8411459365447764, 0.04802570167645274, 0.9365011826908284, 0.9185247370034281, 0.041427617692728964, 0.7456971184691213, 0.1159973295396411, 0.04971314123127476, 0.04971314123127476, 0.1453788898290335, 0.030287268714381976, 0.5330559293731227, 0.2786428721723142, 0.018172361228629186, 0.7029720983022667, 0.015621602184494817, 0.21870243058292743, 0.04686480655348445, 0.9434523369838719, 0.041019666825385735, 0.9768431741031632, 0.007590279912073769, 0.9943266684816637, 0.9838088129603829, 0.055844930621414324, 0.1005208751185458, 0.02233797224856573, 0.8153359870726492, 0.1106986507608795, 0.047442278897519785, 0.1844977512681325, 0.031628185931679854, 0.6272923543116505, 0.9187716782342599, 0.9855314101504202, 0.9639411711420348, 0.04211997866399706, 0.4001397973079721, 0.5264997332999632, 0.02331184260914368, 0.9557855469748908, 0.740845232747738, 0.01683739165335768, 0.1683739165335768, 0.06734956661343072, 0.3235890113377447, 0.006222865602648936, 0.2364688929006596, 0.01866859680794681, 0.4107091297748298, 0.9790896890107263, 0.08232777219122285, 0.07409499497210056, 0.19758665325893485, 0.024698331657366856, 0.6174582914341713, 0.8819263692501356, 0.10755199625001653, 0.04955522463670321, 0.20441530162640076, 0.22919291394475236, 0.012388806159175803, 0.5079410525262079, 0.9730763360115813, 0.9517097050073348, 0.9858883092379233, 0.15658009399017678, 0.05924652205033716, 0.18197146058317842, 0.00846378886433388, 0.5924652205033716, 0.3509689198574637, 0.006051188273404546, 0.04235831791383182, 0.5990676390670501, 0.1969997329183013, 0.16416644409858444, 0.6238324875746208, 0.03911460556009652, 0.32856268670481076, 0.32073976559279144, 0.30509392336875285, 0.9046428264865409, 0.14717370237100852, 0.14717370237100852, 0.13168173370037603, 0.023237953005948712, 0.5499648878074529, 0.011780964110340726, 0.0471238564413629, 0.942477128827258, 0.016719173731405, 0.050157521194214995, 0.9195545552272749, 0.9831898306255145, 0.933889271701989, 0.049152066931683634, 0.08196570731822692, 0.08909316012850751, 0.32786282927290766, 0.49892169671964204, 0.03510906224012348, 0.7841023900294244, 0.05851510373353913, 0.11703020746707826, 0.24165871186106297, 0.6041467796526574, 0.06693917081082613, 0.937148391351566, 0.009732843466914016, 0.7494289469523793, 0.22385539973902238, 0.01946568693382803, 0.02039311611682459, 0.05098279029206147, 0.7851349704977467, 0.030589674175236885, 0.11216213864253524, 0.0704568287601779, 0.30296436366876495, 0.6059287273375299, 0.021137048628053372, 0.016198968892362404, 0.25918350227779846, 0.6965556623715833, 0.016198968892362404, 0.9725472889512965, 0.04146839886652818, 0.953773173930148, 0.02319004803078188, 0.9507919692620571, 0.05656267726149073, 0.08998607746146253, 0.7713092353839646, 0.010284123138452861, 0.07455989275378323, 0.1964403503530885, 0.6449791503259739, 0.16042628612168894, 0.9854327180416854, 0.12050210568717752, 0.41712267353253757, 0.4217573699051213, 0.03244287460808625, 0.009269392745167502, 0.1751895576006491, 0.8133800888601567, 0.1932689605654473, 0.2999001112222458, 0.05331557532839925, 0.4531823902913936, 0.9439403116921993, 0.9868209839771613, 0.05792764243120712, 0.2896382121560356, 0.5985856384558069, 0.05792764243120712, 0.18259469515005292, 0.06351119831306187, 0.2302280938848493, 0.5239673860827605, 0.8822560731592126, 0.02594870803409449, 0.07784612410228346, 0.9791220667782529, 0.9741526684057142, 0.9634725739339237, 0.989074385399901, 0.9528265117236415, 0.05505003614258292, 0.8074005300912162, 0.1376250903564573, 0.01130440250060021, 0.13565283000720252, 0.4936255758595425, 0.026376939168067156, 0.3278276725174061, 0.10970901136167133, 0.6682276146574526, 0.14960319731137, 0.059841278924548, 0.019947092974849333, 0.762552570014955, 0.14919506804640426, 0.08288614891466903, 0.9352043405511177, 0.038171605736780315, 0.019085802868390157, 0.9179392097621811, 0.9791471645133359, 0.925674821329492, 0.37728308563341184, 0.11690461808359241, 0.14878769574275397, 0.09564923297748469, 0.26037846754981947, 0.8124890662796334, 0.15089082659478906, 0.03482095998341286, 0.06159427246005789, 0.7760878329967295, 0.08623198144408105, 0.024637708984023156, 0.04927541796804631, 0.9723968908369179, 0.03889587563347672, 0.6813047703714904, 0.030280212016510683, 0.1514010600825534, 0.015140106008255341, 0.10598074205778739, 0.9860618477954782, 0.8442638082787403, 0.05116750353204486, 0.02558375176602243, 0.0767512552980673, 0.021357500171737997, 0.9610875077282098, 0.02156171772357213, 0.19405545951214917, 0.4527960721950148, 0.32342576585358196, 0.04775774125325326, 0.9312759544384386, 0.02387887062662663, 0.8413699518855214, 0.15297635488827663, 0.323928531412541, 0.647857062825082, 0.9860075615450893, 0.01677824617738814, 0.10066947706432884, 0.8624018535177503, 0.013422596941910512, 0.010066947706432884, 0.947031526724819, 0.023545766014924703, 0.7063729804477411, 0.08241018105223646, 0.18836612811939762, 0.02135357648387663, 0.5893587109549949, 0.3886350920065546, 0.018419902482898102, 0.884155319179109, 0.09209951241449052, 0.07628658406242131, 0.2070635853122864, 0.6974773399992805, 0.010898083437488758, 0.024737563808353975, 0.34137838055528485, 0.5640164548304706, 0.06926517866339113, 0.9832503707506169, 0.8841658790425645, 0.11052073488032056, 0.04944613676342221, 0.939476598505022, 0.25970677133690523, 0.6752376054759536, 0.9612679176444976, 0.042723018561977674, 0.9464887911259452, 0.9526529003928732, 0.027218654296939235, 0.011342752605708684, 0.2949115677484258, 0.3743108359883866, 0.2949115677484258, 0.022685505211417368, 0.975080908479369, 0.9768403988953381, 0.07644785055488153, 0.7166985989520144, 0.200675607706564, 0.009555981319360191, 0.9116447680965722, 0.07597039734138102, 0.04312640487150893, 0.04312640487150893, 0.23719522679329907, 0.5390800608938615, 0.12937921461452678, 0.897177956759012, 0.04600912598764164, 0.04600912598764164, 0.01150228149691041, 0.04944612830035649, 0.9394764377067732, 0.3640015683070261, 0.042545637854067994, 0.21272818927033996, 0.0756366895183431, 0.3025467580733724, 0.9118002475876279, 0.045590012379381394, 0.5259217089368752, 0.11027390671257059, 0.22054781342514118, 0.04241304104329638, 0.11027390671257059, 0.9486184299183288, 0.024963642892587602, 0.04457542837513952, 0.9583717100654996, 0.974159075695943, 0.06429667747593422, 0.002521438332389577, 0.4815947214864092, 0.010085753329558309, 0.4425124273343708, 0.026587292510850367, 0.026587292510850367, 0.9305552378797629, 0.0867686380769123, 0.150398972666648, 0.6073804665383862, 0.15618354853844216, 0.8387046340123862, 0.13479181618056207, 0.02995373692901379, 0.4500789265498902, 0.16366506419996008, 0.2618641027199361, 0.016366506419996006, 0.11456554493997205, 0.20609997705509464, 0.535859940343246, 0.22258797521950222, 0.03297599632881514, 0.9591553245263699, 0.019340220358765054, 0.9670110179382526, 0.01953944026237055, 0.390788805247411, 0.3614796448538552, 0.18562468249252023, 0.0390788805247411, 0.6389665077891009, 0.2513966588022692, 0.08379888626742306, 0.020949721566855765, 0.4342517923933951, 0.2617408063741012, 0.17845964070961443, 0.029743273451602405, 0.09517847504512769, 0.008075401576004794, 0.2907144567361726, 0.1292064252160767, 0.5006748977122972, 0.06460321260803835, 0.07162617253160389, 0.9311402429108505, 0.9858899031337274, 0.9768477215452328, 0.8252089287645267, 0.16504178575290535, 0.9582901527795716, 0.15040708577895148, 0.8272389717842331, 0.03760177144473787, 0.17354526776314297, 0.23139369035085727, 0.13980035458697626, 0.24585579599778587, 0.21211088282161916, 0.9688069165035867, 0.9634718147843102, 0.9877399224950687, 0.9741594027809158, 0.9730856837573957, 0.02025827781763465, 0.5449476732943721, 0.40719138413445644, 0.02430993338116158, 0.0020258277817634647, 0.4602385380527869, 0.38253592773218653, 0.12850816322253142, 0.029885619354077072, 0.298597200221434, 0.7025816475798446, 0.22456631313932418, 0.039629349377527795, 0.264195662516852, 0.4227130600269632, 0.0528391325033704, 0.24792201403646108, 0.6941816393020911, 0.10361062324280053, 0.8703292352395244, 0.9155906582008505, 0.03703761507923383, 0.9259403769808457, 0.06942763081683251, 0.610963151188126, 0.2568822340222803, 0.0416565784900995, 0.02082828924504975, 0.20515650877314023, 0.7522405321681809, 0.3744959386914301, 0.35179921513437373, 0.2383155973490919, 0.034045085335584556, 0.9416918597765397, 0.03553554187835999, 0.8635719018658162, 0.10159669433715486, 0.016932782389525808, 0.9633156388043375, 0.9401648607986076, 0.14675831426274494, 0.04193094693221284, 0.12579284079663852, 0.01048273673305321, 0.6708951509154054, 0.15812065968251185, 0.05270688656083728, 0.22588665668930263, 0.03764777611488377, 0.5270688656083728, 0.03604944808032018, 0.050469227312448246, 0.05767911692851228, 0.021629668848192108, 0.8291373058473641, 0.9517258864442055, 0.9688002292594606, 0.9887573654479923, 0.37819917527760216, 0.5943129897219462, 0.3320997436855139, 0.47490263347028494, 0.1693708692796121, 0.019925984621130835, 0.22292960908506623, 0.5162580420917323, 0.14079764784319973, 0.06648777814817765, 0.05084359505448879, 0.022969225531212775, 0.8957997957172982, 0.04593845106242555, 0.022969225531212775, 0.9491411756060583, 0.0609189715658375, 0.121837943131675, 0.8122529542111666, 0.017710029160661323, 0.9386315455150501, 0.017710029160661323, 0.10888282802069535, 0.7621797961448674, 0.006805176751293459, 0.12249318152328227, 0.017283497863414335, 0.051850493590243005, 0.933308884624374, 0.2402202463085824, 0.4373240381515218, 0.043116454465643, 0.04927594796073485, 0.22790125931839872, 0.27104302401460634, 0.1025568198974186, 0.21976461406589703, 0.040290179245414455, 0.36627435677649506, 0.96661108064381, 0.2436034495916341, 0.10591454330071048, 0.5401641708336234, 0.11121027046574601, 0.9570291314565124, 0.13240572769611614, 0.13240572769611614, 0.7355873760895341, 0.09366222854621176, 0.08429600569159058, 0.7680302740789364, 0.02809866856386353, 0.02809866856386353, 0.974159335084902, 0.03639508390049874, 0.01819754195024937, 0.03639508390049874, 0.8916795555622191, 0.5725701122719183, 0.022902804490876734, 0.14886822919069878, 0.25193084939964405, 0.9688104492074908, 0.2503359005466263, 0.34661893921840564, 0.2387819359060128, 0.011553964640613522, 0.15405286187484696, 0.1172694241414738, 0.2501747715018108, 0.4612597349564636, 0.007817961609431587, 0.16026821299334754, 0.024098589710793972, 0.09639435884317589, 0.8675492295885829, 0.9713210155053541, 0.9740997821452445, 0.04939817702106698, 0.04939817702106698, 0.8891671863792057, 0.06418903495633785, 0.866551971910561, 0.06418903495633785, 0.05912867260196977, 0.07391084075246221, 0.2143414381821404, 0.6504153986216675], \"Term\": [\"000\", \"000\", \"000\", \"000\", \"000\", \"1960\", \"1960\", \"1960\", \"63\", \"63\", \"academic\", \"academic\", \"accommodate\", \"accommodate\", \"act\", \"act\", \"act\", \"act\", \"activities\", \"activities\", \"activities\", \"administration\", \"administration\", \"administration\", \"alexander\", \"alexander\", \"amateur\", \"american\", \"american\", \"american\", \"american\", \"american\", \"area\", \"area\", \"area\", \"area\", \"area\", \"asked\", \"asked\", \"asked\", \"asked\", \"asked\", \"assessment\", \"assessment\", \"aug\", \"available\", \"available\", \"available\", \"available\", \"available\", \"away\", \"away\", \"away\", \"away\", \"baby\", \"baby\", \"ball\", \"ball\", \"baseball\", \"bat\", \"battery\", \"battery\", \"bed\", \"bed\", \"bed\", \"berlin\", \"best\", \"best\", \"best\", \"best\", \"best\", \"better\", \"better\", \"better\", \"better\", \"better\", \"blocks\", \"blocks\", \"blocks\", \"board\", \"board\", \"board\", \"board\", \"board\", \"boat\", \"boat\", \"boat\", \"boat\", \"boats\", \"boats\", \"boats\", \"bob\", \"bob\", \"bombs\", \"boy\", \"boy\", \"boy\", \"bridge\", \"bridge\", \"business\", \"business\", \"business\", \"business\", \"business\", \"came\", \"came\", \"came\", \"came\", \"castro\", \"catastrophe\", \"catastrophe\", \"cattle\", \"cattle\", \"cattle\", \"center\", \"center\", \"center\", \"center\", \"charlie\", \"charter\", \"chemical\", \"chemical\", \"chemical\", \"chest\", \"chest\", \"child\", \"child\", \"child\", \"child\", \"city\", \"city\", \"city\", \"city\", \"city\", \"claim\", \"claim\", \"claim\", \"claims\", \"claims\", \"claims\", \"claims\", \"class\", \"class\", \"class\", \"class\", \"class\", \"clay\", \"clay\", \"clay\", \"clay\", \"club\", \"club\", \"club\", \"club\", \"coach\", \"college\", \"college\", \"college\", \"college\", \"college\", \"come\", \"come\", \"come\", \"come\", \"come\", \"committee\", \"committee\", \"committee\", \"communism\", \"communist\", \"communist\", \"communist\", \"communists\", \"company\", \"company\", \"company\", \"company\", \"company\", \"comprehensive\", \"concrete\", \"concrete\", \"concrete\", \"congo\", \"conversion\", \"conversion\", \"conversion\", \"cooling\", \"cooling\", \"cooling\", \"corps\", \"corps\", \"corps\", \"couldn\", \"couldn\", \"couldn\", \"council\", \"council\", \"council\", \"council\", \"county\", \"county\", \"court\", \"court\", \"court\", \"court\", \"coverage\", \"coverage\", \"creative\", \"creative\", \"credit\", \"credit\", \"credit\", \"credit\", \"cuba\", \"curriculum\", \"cut\", \"cut\", \"cut\", \"cut\", \"dad\", \"daily\", \"daily\", \"daily\", \"day\", \"day\", \"day\", \"day\", \"day\", \"dear\", \"democratic\", \"democratic\", \"democrats\", \"department\", \"department\", \"department\", \"department\", \"depreciation\", \"designers\", \"development\", \"development\", \"development\", \"development\", \"didn\", \"didn\", \"didn\", \"didn\", \"don\", \"don\", \"don\", \"don\", \"don\", \"door\", \"door\", \"door\", \"door\", \"drill\", \"drill\", \"drill\", \"east\", \"east\", \"east\", \"east\", \"educated\", \"election\", \"election\", \"electricity\", \"electricity\", \"electricity\", \"employee\", \"engine\", \"engine\", \"engine\", \"engine\", \"engine\", \"engineers\", \"engineers\", \"engineers\", \"evaluation\", \"exceed\", \"exceed\", \"expenditures\", \"expenditures\", \"eyes\", \"eyes\", \"eyes\", \"eyes\", \"faculty\", \"faculty\", \"farm\", \"farm\", \"farm\", \"farm\", \"farmers\", \"farmers\", \"father\", \"father\", \"father\", \"favorite\", \"feed\", \"feed\", \"feed\", \"felt\", \"felt\", \"felt\", \"felt\", \"fig\", \"fig\", \"fiscal\", \"fiscal\", \"fishing\", \"fishing\", \"football\", \"football\", \"forests\", \"fountain\", \"frame\", \"frame\", \"frame\", \"gallery\", \"game\", \"game\", \"game\", \"game\", \"game\", \"games\", \"games\", \"gen\", \"general\", \"general\", \"general\", \"general\", \"general\", \"georgia\", \"georgia\", \"girl\", \"girl\", \"girl\", \"god\", \"god\", \"going\", \"going\", \"going\", \"going\", \"golf\", \"golf\", \"good\", \"good\", \"good\", \"good\", \"good\", \"got\", \"got\", \"got\", \"government\", \"government\", \"government\", \"government\", \"green\", \"green\", \"green\", \"hadn\", \"hair\", \"hair\", \"handsome\", \"head\", \"head\", \"head\", \"head\", \"head\", \"hearing\", \"hearing\", \"hearing\", \"heel\", \"hell\", \"high\", \"high\", \"high\", \"high\", \"high\", \"hit\", \"hit\", \"hit\", \"hits\", \"hole\", \"hole\", \"holes\", \"home\", \"home\", \"home\", \"home\", \"home\", \"homer\", \"house\", \"house\", \"house\", \"house\", \"house\", \"hughes\", \"import\", \"import\", \"important\", \"important\", \"important\", \"important\", \"important\", \"imports\", \"inch\", \"inch\", \"inch\", \"india\", \"india\", \"industrial\", \"industrial\", \"industrial\", \"industrial\", \"interest\", \"interest\", \"interest\", \"interest\", \"interest\", \"interference\", \"interference\", \"interference\", \"interior\", \"interior\", \"inventory\", \"island\", \"island\", \"island\", \"island\", \"island\", \"john\", \"john\", \"john\", \"john\", \"john\", \"junior\", \"junior\", \"junior\", \"junior\", \"jury\", \"jury\", \"katanga\", \"kennedy\", \"kennedy\", \"khrushchev\", \"knew\", \"knew\", \"knew\", \"knew\", \"know\", \"know\", \"know\", \"know\", \"know\", \"laboratories\", \"laos\", \"laughed\", \"laws\", \"laws\", \"laws\", \"leader\", \"leader\", \"league\", \"league\", \"league\", \"league\", \"left\", \"left\", \"left\", \"left\", \"left\", \"leg\", \"let\", \"let\", \"let\", \"let\", \"let\", \"library\", \"library\", \"life\", \"life\", \"life\", \"life\", \"life\", \"liked\", \"lips\", \"listening\", \"little\", \"little\", \"little\", \"little\", \"little\", \"ll\", \"ll\", \"ll\", \"ll\", \"loans\", \"loans\", \"loans\", \"local\", \"local\", \"local\", \"local\", \"locations\", \"look\", \"look\", \"look\", \"look\", \"look\", \"looked\", \"looked\", \"looked\", \"love\", \"love\", \"love\", \"loved\", \"maintain\", \"maintain\", \"man\", \"man\", \"man\", \"man\", \"management\", \"management\", \"management\", \"management\", \"manufactured\", \"manufactured\", \"mayor\", \"mayor\", \"medical\", \"medical\", \"medical\", \"medical\", \"meeting\", \"meeting\", \"meeting\", \"meeting\", \"meeting\", \"members\", \"members\", \"members\", \"members\", \"military\", \"military\", \"military\", \"military\", \"moscow\", \"mother\", \"mother\", \"motors\", \"motors\", \"mr\", \"mr\", \"mr\", \"mr\", \"mr\", \"mrs\", \"mrs\", \"mrs\", \"musical\", \"national\", \"national\", \"national\", \"national\", \"national\", \"nations\", \"nations\", \"night\", \"night\", \"night\", \"night\", \"nodded\", \"nuclear\", \"officer\", \"officer\", \"officer\", \"officer\", \"old\", \"old\", \"old\", \"old\", \"organizations\", \"organizations\", \"organizations\", \"paint\", \"paintings\", \"pale\", \"panels\", \"participation\", \"party\", \"party\", \"party\", \"people\", \"people\", \"people\", \"people\", \"people\", \"period\", \"period\", \"period\", \"period\", \"period\", \"piece\", \"piece\", \"piece\", \"pieces\", \"pieces\", \"pieces\", \"pitcher\", \"pitching\", \"pittsburgh\", \"place\", \"place\", \"place\", \"place\", \"place\", \"planning\", \"planning\", \"planning\", \"plant\", \"plant\", \"plant\", \"plant\", \"plant\", \"plastic\", \"plastic\", \"play\", \"play\", \"play\", \"play\", \"play\", \"player\", \"playing\", \"playing\", \"playing\", \"playing\", \"police\", \"police\", \"policy\", \"policy\", \"policy\", \"policy\", \"political\", \"political\", \"political\", \"pool\", \"pool\", \"pound\", \"pound\", \"premier\", \"president\", \"president\", \"president\", \"president\", \"president\", \"producers\", \"production\", \"production\", \"production\", \"production\", \"program\", \"program\", \"program\", \"projects\", \"projects\", \"projects\", \"property\", \"property\", \"property\", \"property\", \"public\", \"public\", \"public\", \"public\", \"publications\", \"published\", \"published\", \"puerto\", \"puerto\", \"ratio\", \"ratio\", \"rayburn\", \"rayburn\", \"recommendation\", \"recreation\", \"recreation\", \"report\", \"report\", \"report\", \"report\", \"report\", \"republican\", \"republicans\", \"research\", \"research\", \"research\", \"research\", \"resources\", \"resources\", \"respect\", \"respect\", \"respect\", \"respect\", \"respect\", \"rhode\", \"rhode\", \"rhode\", \"rhode\", \"rico\", \"rico\", \"right\", \"right\", \"right\", \"right\", \"right\", \"roy\", \"roy\", \"run\", \"run\", \"run\", \"run\", \"run\", \"runs\", \"runs\", \"russia\", \"russia\", \"ruth\", \"said\", \"said\", \"said\", \"said\", \"said\", \"sat\", \"sat\", \"sat\", \"school\", \"school\", \"school\", \"school\", \"season\", \"season\", \"season\", \"second\", \"second\", \"second\", \"second\", \"second\", \"secretary\", \"secretary\", \"secretary\", \"secretary\", \"sen\", \"senate\", \"senate\", \"service\", \"service\", \"service\", \"service\", \"service\", \"services\", \"services\", \"services\", \"services\", \"set\", \"set\", \"set\", \"set\", \"set\", \"shall\", \"shall\", \"shall\", \"shall\", \"shall\", \"shelter\", \"shelter\", \"shoes\", \"sick\", \"signs\", \"signs\", \"silent\", \"site\", \"site\", \"site\", \"small\", \"small\", \"small\", \"small\", \"small\", \"smile\", \"smiled\", \"soviet\", \"stadium\", \"stared\", \"state\", \"state\", \"state\", \"state\", \"state\", \"states\", \"states\", \"states\", \"states\", \"stations\", \"stations\", \"stock\", \"stock\", \"stock\", \"stock\", \"stock\", \"stockholders\", \"stockholders\", \"stood\", \"stood\", \"strange\", \"susan\", \"susan\", \"system\", \"system\", \"system\", \"system\", \"system\", \"tangible\", \"tangible\", \"tax\", \"tax\", \"tax\", \"tax\", \"team\", \"team\", \"technical\", \"technical\", \"technical\", \"textile\", \"thereof\", \"thing\", \"thing\", \"thing\", \"thing\", \"thing\", \"think\", \"think\", \"think\", \"think\", \"think\", \"thought\", \"thought\", \"thought\", \"thought\", \"thought\", \"till\", \"tongue\", \"troops\", \"trust\", \"trust\", \"united\", \"united\", \"united\", \"united\", \"use\", \"use\", \"use\", \"use\", \"use\", \"vehicles\", \"vehicles\", \"vehicles\", \"vehicles\", \"vernon\", \"voice\", \"voice\", \"voice\", \"vote\", \"vote\", \"vote\", \"war\", \"war\", \"war\", \"war\", \"wasn\", \"wasn\", \"wasn\", \"water\", \"water\", \"water\", \"water\", \"water\", \"way\", \"way\", \"way\", \"way\", \"way\", \"weapons\", \"week\", \"week\", \"week\", \"week\", \"welfare\", \"went\", \"went\", \"went\", \"west\", \"west\", \"west\", \"west\", \"west\", \"willie\", \"woman\", \"woman\", \"woman\", \"woman\", \"won\", \"won\", \"won\", \"won\", \"wondered\", \"work\", \"work\", \"work\", \"work\", \"work\", \"world\", \"world\", \"world\", \"world\", \"world\", \"wouldn\", \"wouldn\", \"wouldn\", \"yankees\", \"yards\", \"yes\", \"yes\", \"yes\", \"yesterday\", \"yesterday\", \"yesterday\", \"young\", \"young\", \"young\", \"young\"]}, \"R\": 30, \"lambda.step\": 0.01, \"plot.opts\": {\"xlab\": \"PC1\", \"ylab\": \"PC2\"}, \"topic.order\": [1, 2, 3, 4, 5]};\n",
       "\n",
       "function LDAvis_load_lib(url, callback){\n",
       "  var s = document.createElement('script');\n",
       "  s.src = url;\n",
       "  s.async = true;\n",
       "  s.onreadystatechange = s.onload = callback;\n",
       "  s.onerror = function(){console.warn(\"failed to load library \" + url);};\n",
       "  document.getElementsByTagName(\"head\")[0].appendChild(s);\n",
       "}\n",
       "\n",
       "if(typeof(LDAvis) !== \"undefined\"){\n",
       "   // already loaded: just create the visualization\n",
       "   !function(LDAvis){\n",
       "       new LDAvis(\"#\" + \"ldavis_el4113622110447032486987000051\", ldavis_el4113622110447032486987000051_data);\n",
       "   }(LDAvis);\n",
       "}else if(typeof define === \"function\" && define.amd){\n",
       "   // require.js is available: use it to load d3/LDAvis\n",
       "   require.config({paths: {d3: \"https://d3js.org/d3.v5\"}});\n",
       "   require([\"d3\"], function(d3){\n",
       "      window.d3 = d3;\n",
       "      LDAvis_load_lib(\"https://cdn.jsdelivr.net/gh/bmabey/pyLDAvis@3.4.0/pyLDAvis/js/ldavis.v3.0.0.js\", function(){\n",
       "        new LDAvis(\"#\" + \"ldavis_el4113622110447032486987000051\", ldavis_el4113622110447032486987000051_data);\n",
       "      });\n",
       "    });\n",
       "}else{\n",
       "    // require.js not available: dynamically load d3 & LDAvis\n",
       "    LDAvis_load_lib(\"https://d3js.org/d3.v5.js\", function(){\n",
       "         LDAvis_load_lib(\"https://cdn.jsdelivr.net/gh/bmabey/pyLDAvis@3.4.0/pyLDAvis/js/ldavis.v3.0.0.js\", function(){\n",
       "                 new LDAvis(\"#\" + \"ldavis_el4113622110447032486987000051\", ldavis_el4113622110447032486987000051_data);\n",
       "            })\n",
       "         });\n",
       "}\n",
       "</script>"
      ],
      "text/plain": [
       "<IPython.core.display.HTML object>"
      ]
     },
     "execution_count": 51,
     "metadata": {},
     "output_type": "execute_result"
    }
   ],
   "source": [
    "pyLDAvis.display(lda_display)"
   ]
  },
  {
   "attachments": {},
   "cell_type": "markdown",
   "id": "a3d14c87",
   "metadata": {},
   "source": [
    "Q: What conclusions do you draw from the visualization above? Please address the principal component scatterplot and the salient terms graph.\n",
    "\n",
    "A: The PCA visualization shows the clear separation of topic 1 and 5 from the other three topics. There is strong overlap between topics 2 and 4, which makes sense since they are both composed of primarily government documents. Topic 2 has a small overlap with topic 3 which is likely due to the news word, but its small enough that topic 3 can be considered a separate topic. I would consider topic 2 and 4 as one topic, and collapse the model into 4 topics instead of 5. As for the salient terms graphs, strong topics will show a rapid decline in the red bar term frequencies. This pattern can be seen with topic 5. Moderate decline is seen in topic 3 and topic 2. Topics 1 and 4 show the least decline which is probably due to the considerable overlap between two categories in the underlying data, and the fact that the underlying document sample sizes are small. The topic with more clear subject matter have larger underlying sample sizes.  "
   ]
  },
  {
   "cell_type": "code",
   "execution_count": null,
   "id": "4be2e17b-080c-46da-a3b9-960f59bcef0f",
   "metadata": {},
   "outputs": [],
   "source": []
  }
 ],
 "metadata": {
  "kernelspec": {
   "display_name": "Python 3 (ipykernel)",
   "language": "python",
   "name": "python3"
  },
  "language_info": {
   "codemirror_mode": {
    "name": "ipython",
    "version": 3
   },
   "file_extension": ".py",
   "mimetype": "text/x-python",
   "name": "python",
   "nbconvert_exporter": "python",
   "pygments_lexer": "ipython3",
   "version": "3.9.18"
  }
 },
 "nbformat": 4,
 "nbformat_minor": 5
}
